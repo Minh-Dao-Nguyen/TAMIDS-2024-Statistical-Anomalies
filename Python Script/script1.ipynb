{
  "nbformat": 4,
  "nbformat_minor": 0,
  "metadata": {
    "colab": {
      "provenance": []
    },
    "kernelspec": {
      "name": "python3",
      "display_name": "Python 3"
    },
    "language_info": {
      "name": "python"
    }
  },
  "cells": [
    {
      "cell_type": "code",
      "source": [
        "import pandas as pd"
      ],
      "metadata": {
        "id": "f4o-cQQV1I3M"
      },
      "execution_count": 76,
      "outputs": []
    },
    {
      "cell_type": "code",
      "source": [
        "df = pd.read_csv('SLR_coastel.csv')"
      ],
      "metadata": {
        "id": "HlB9uCgj1UNW"
      },
      "execution_count": 77,
      "outputs": []
    },
    {
      "cell_type": "code",
      "source": [
        "coastalDf = pd.read_csv('Mod_coastalEcon.csv')\n",
        "oceanDf = pd.read_csv('oceanEconomy_ENOW.csv')"
      ],
      "metadata": {
        "id": "J36yRyuj2ETE"
      },
      "execution_count": 78,
      "outputs": []
    },
    {
      "cell_type": "code",
      "source": [
        "df = df.drop(columns = ['time', 'latitude', 'longitude'])"
      ],
      "metadata": {
        "id": "jaCQPs4r1MCB"
      },
      "execution_count": 79,
      "outputs": []
    },
    {
      "cell_type": "code",
      "execution_count": 80,
      "metadata": {
        "colab": {
          "base_uri": "https://localhost:8080/"
        },
        "id": "e__4budB1D3C",
        "outputId": "439525e4-146f-4944-a5e4-593d09e381a7"
      },
      "outputs": [
        {
          "output_type": "stream",
          "name": "stdout",
          "text": [
            "    State  year       adt       sla      ugos     ugosa      vgos     vgosa\n",
            "0      AL  1993  0.102025 -0.086775  0.014312  0.009437 -0.037937 -0.010637\n",
            "1      AL  1994  0.133313 -0.055488  0.009912  0.005013 -0.005913  0.021413\n",
            "2      AL  1995  0.126388 -0.062413 -0.037675 -0.042575 -0.013950  0.013388\n",
            "3      AL  1996  0.163038 -0.025763 -0.019700 -0.024587 -0.030638 -0.003325\n",
            "4      AL  1997  0.051338 -0.137462 -0.017950 -0.022825 -0.038900 -0.011562\n",
            "..    ...   ...       ...       ...       ...       ...       ...       ...\n",
            "475    VA  2018 -0.019975  0.103167 -0.030512 -0.023067 -0.133013 -0.099175\n",
            "476    VA  2019 -0.068383  0.054758 -0.002750  0.004700 -0.002233  0.031596\n",
            "477    VA  2020 -0.075617  0.047513 -0.085346 -0.077900 -0.116329 -0.082488\n",
            "478    VA  2021 -0.004425  0.118712 -0.014721 -0.007292 -0.043079 -0.009254\n",
            "479    VA  2022 -0.024983  0.098162  0.028667  0.036112  0.015983  0.049817\n",
            "\n",
            "[480 rows x 8 columns]\n"
          ]
        }
      ],
      "source": [
        "df = df.groupby(['State', 'year']).agg({'adt': 'mean',\n",
        "                                               'sla': 'mean',\n",
        "                                               'ugos': 'mean',\n",
        "                                               'ugosa': 'mean',\n",
        "                                               'vgos': 'mean',\n",
        "                                               'vgosa': 'mean'}).reset_index()\n",
        "\n",
        "# Print the resulting DataFrame\n",
        "print(df)"
      ]
    },
    {
      "cell_type": "code",
      "source": [
        "oceanDf['sector'].unique()"
      ],
      "metadata": {
        "colab": {
          "base_uri": "https://localhost:8080/"
        },
        "id": "fwzlt7Kp2Xr8",
        "outputId": "639c1389-8763-4fbc-cc9c-a38c4426ca6b"
      },
      "execution_count": 81,
      "outputs": [
        {
          "output_type": "execute_result",
          "data": {
            "text/plain": [
              "array(['Ship and Boat Building', 'Tourism and Recreation',\n",
              "       'Marine Transportation', 'Ocean Economy', 'Marine Construction',\n",
              "       'Living Resources', 'Offshore Mineral Resources'], dtype=object)"
            ]
          },
          "metadata": {},
          "execution_count": 81
        }
      ]
    },
    {
      "cell_type": "code",
      "source": [
        "coastalDf['sector'].unique()"
      ],
      "metadata": {
        "colab": {
          "base_uri": "https://localhost:8080/"
        },
        "id": "d2Qtd0h14JIq",
        "outputId": "aaf6c1b7-25b3-4d2b-ed2d-46a750719501"
      },
      "execution_count": 82,
      "outputs": [
        {
          "output_type": "execute_result",
          "data": {
            "text/plain": [
              "array(['Financial Activities', 'Education and Health Services',\n",
              "       'Information', 'Leisure and Hospitality', 'All Industries Total',\n",
              "       'Construction', 'Other Services',\n",
              "       'Professional and Business Services', 'Public Administration',\n",
              "       'Manufacturing', 'Trade Transportation and Utilities',\n",
              "       'Natural Resources and Mining'], dtype=object)"
            ]
          },
          "metadata": {},
          "execution_count": 82
        }
      ]
    },
    {
      "cell_type": "code",
      "source": [
        "print(oceanDf.columns)\n",
        "print(coastalDf.columns)"
      ],
      "metadata": {
        "colab": {
          "base_uri": "https://localhost:8080/"
        },
        "id": "_dozDAaF4Ry_",
        "outputId": "283762e4-2b21-4959-943d-0c458ade723c"
      },
      "execution_count": 83,
      "outputs": [
        {
          "output_type": "stream",
          "name": "stdout",
          "text": [
            "Index(['geoid', 'geoName', 'year', 'sector', 'establishments', 'employment',\n",
            "       'wages', 'gdp'],\n",
            "      dtype='object')\n",
            "Index(['geoid', 'geoName', 'year', 'sector', 'establishments', 'employment',\n",
            "       'wages', 'gdp'],\n",
            "      dtype='object')\n"
          ]
        }
      ]
    },
    {
      "cell_type": "code",
      "source": [
        "concatenated_df = pd.concat([oceanDf, coastalDf])"
      ],
      "metadata": {
        "id": "vBmSR0-w7ZAm"
      },
      "execution_count": 84,
      "outputs": []
    },
    {
      "cell_type": "code",
      "source": [
        "df1 = concatenated_df\n",
        "df2 = df\n",
        "\n",
        "# Mapping dictionary for all states\n",
        "state_mapping = {'FL': 'Florida', 'TX': 'Texas', 'LA': 'Louisiana', 'MS': 'Mississippi', 'AL': 'Alabama',\n",
        "                 'GA': 'Georgia', 'SC': 'South Carolina', 'NC': 'North Carolina', 'VA': 'Virginia',\n",
        "                 'MD': 'Maryland', 'DE': 'Delaware', 'NJ': 'New Jersey', 'NY': 'New York', 'CT': 'Connecticut',\n",
        "                 'MA': 'Massachusetts', 'ME': 'Maine'}\n",
        "\n",
        "# Replace 'State' column values in df2 with their corresponding 'geoName' values\n",
        "df2['State'] = df2['State'].map(state_mapping)\n",
        "\n",
        "# Merge the data frames\n",
        "merged_df = pd.merge(df1, df2, how='inner', left_on=['year', 'geoName'], right_on=['year', 'State'])\n",
        "\n",
        "print(merged_df)"
      ],
      "metadata": {
        "colab": {
          "base_uri": "https://localhost:8080/"
        },
        "id": "ZtJfihzw3Lrl",
        "outputId": "3ba3bf00-b133-400a-9781-d3b1875f680d"
      },
      "execution_count": 85,
      "outputs": [
        {
          "output_type": "stream",
          "name": "stdout",
          "text": [
            "      geoid   geoName  year                      sector establishments  \\\n",
            "0      1000   Alabama  2017      Ship and Boat Building             56   \n",
            "1      1000   Alabama  2017      Tourism and Recreation            969   \n",
            "2      1000   Alabama  2017       Marine Transportation            122   \n",
            "3      1000   Alabama  2017               Ocean Economy           1370   \n",
            "4      1000   Alabama  2017         Marine Construction             37   \n",
            "...     ...       ...   ...                         ...            ...   \n",
            "2810  51000  Virginia  2013  Offshore Mineral Resources             53   \n",
            "2811  51000  Virginia  2013      Ship and Boat Building             59   \n",
            "2812  51000  Virginia  2013      Tourism and Recreation           3253   \n",
            "2813  51000  Virginia  2013       Marine Transportation            343   \n",
            "2814  51000  Virginia  2013               Ocean Economy           4046   \n",
            "\n",
            "     employment       wages             gdp     State       adt       sla  \\\n",
            "0        5148.5   340878916   768027904.345   Alabama  0.181512 -0.007300   \n",
            "1     19190.083   349429993    746658770.34   Alabama  0.181512 -0.007300   \n",
            "2      3598.083   193170214   316308107.444   Alabama  0.181512 -0.007300   \n",
            "3     30717.417   995482547  2298649827.607   Alabama  0.181512 -0.007300   \n",
            "4       392.083    19701172    37218251.392   Alabama  0.181512 -0.007300   \n",
            "...         ...         ...             ...       ...       ...       ...   \n",
            "2810    494.583    86897990   167379951.064  Virginia -0.102758  0.020383   \n",
            "2811    36876.5  2488874150  3571910068.189  Virginia -0.102758  0.020383   \n",
            "2812  60267.667   947625928  1865397429.217  Virginia -0.102758  0.020383   \n",
            "2813  15288.333  1113437399  2032259098.824  Virginia -0.102758  0.020383   \n",
            "2814   117263.5  4850518426  8560284530.829  Virginia -0.102758  0.020383   \n",
            "\n",
            "          ugos     ugosa      vgos     vgosa  \n",
            "0    -0.088825 -0.093675  0.001275  0.028600  \n",
            "1    -0.088825 -0.093675  0.001275  0.028600  \n",
            "2    -0.088825 -0.093675  0.001275  0.028600  \n",
            "3    -0.088825 -0.093675  0.001275  0.028600  \n",
            "4    -0.088825 -0.093675  0.001275  0.028600  \n",
            "...        ...       ...       ...       ...  \n",
            "2810  0.001096  0.008537 -0.095246 -0.061421  \n",
            "2811  0.001096  0.008537 -0.095246 -0.061421  \n",
            "2812  0.001096  0.008537 -0.095246 -0.061421  \n",
            "2813  0.001096  0.008537 -0.095246 -0.061421  \n",
            "2814  0.001096  0.008537 -0.095246 -0.061421  \n",
            "\n",
            "[2815 rows x 15 columns]\n"
          ]
        }
      ]
    },
    {
      "cell_type": "code",
      "source": [
        "merged_df['year'].unique()"
      ],
      "metadata": {
        "colab": {
          "base_uri": "https://localhost:8080/"
        },
        "id": "UKIPdtdg37Ko",
        "outputId": "344a1e57-7228-4b49-89d1-15783c8721bc"
      },
      "execution_count": 86,
      "outputs": [
        {
          "output_type": "execute_result",
          "data": {
            "text/plain": [
              "array([2017, 2018, 2009, 2010, 2011, 2012, 2013, 2020, 2006, 2007, 2008,\n",
              "       2005, 2016, 2019, 2014, 2015, 2021])"
            ]
          },
          "metadata": {},
          "execution_count": 86
        }
      ]
    },
    {
      "cell_type": "code",
      "source": [
        "merged_df = merged_df.drop(columns = ['geoid'])"
      ],
      "metadata": {
        "id": "uug76bAE38cl"
      },
      "execution_count": 87,
      "outputs": []
    },
    {
      "cell_type": "code",
      "source": [
        "merged_df.dtypes"
      ],
      "metadata": {
        "colab": {
          "base_uri": "https://localhost:8080/"
        },
        "id": "vN-6YaYS-GUf",
        "outputId": "46330be8-4ccf-4d90-a064-ca8db5480b8a"
      },
      "execution_count": 88,
      "outputs": [
        {
          "output_type": "execute_result",
          "data": {
            "text/plain": [
              "geoName            object\n",
              "year                int64\n",
              "sector             object\n",
              "establishments     object\n",
              "employment         object\n",
              "wages              object\n",
              "gdp                object\n",
              "State              object\n",
              "adt               float64\n",
              "sla               float64\n",
              "ugos              float64\n",
              "ugosa             float64\n",
              "vgos              float64\n",
              "vgosa             float64\n",
              "dtype: object"
            ]
          },
          "metadata": {},
          "execution_count": 88
        }
      ]
    },
    {
      "cell_type": "code",
      "source": [
        "cols = ['establishments', 'employment', 'wages', 'gdp']\n",
        "\n",
        "# Convert to numeric, coerce errors to NaN\n",
        "merged_df[cols] = merged_df[cols].apply(pd.to_numeric, errors='coerce')\n",
        "\n",
        "# Fill NaN values with 0\n",
        "#merged_df.fillna(0, inplace=True)\n",
        "#Drop rows with NaN values in any of the specified columns\n",
        "merged_df.dropna(subset=cols, inplace=True)\n",
        "\n",
        "merged_df[cols] = merged_df[cols].astype(float)"
      ],
      "metadata": {
        "id": "fFGqYe3p-SYF"
      },
      "execution_count": 89,
      "outputs": []
    },
    {
      "cell_type": "code",
      "source": [
        "merged_df.dtypes"
      ],
      "metadata": {
        "colab": {
          "base_uri": "https://localhost:8080/"
        },
        "id": "0NCNysqx-7KW",
        "outputId": "8f1c7692-caae-4be4-defa-2c3b9e808ee1"
      },
      "execution_count": 90,
      "outputs": [
        {
          "output_type": "execute_result",
          "data": {
            "text/plain": [
              "geoName            object\n",
              "year                int64\n",
              "sector             object\n",
              "establishments    float64\n",
              "employment        float64\n",
              "wages             float64\n",
              "gdp               float64\n",
              "State              object\n",
              "adt               float64\n",
              "sla               float64\n",
              "ugos              float64\n",
              "ugosa             float64\n",
              "vgos              float64\n",
              "vgosa             float64\n",
              "dtype: object"
            ]
          },
          "metadata": {},
          "execution_count": 90
        }
      ]
    },
    {
      "cell_type": "code",
      "source": [
        "merged_df.to_csv(\"SLR_econ.csv\")"
      ],
      "metadata": {
        "id": "ofooSgOz7mbd"
      },
      "execution_count": 91,
      "outputs": []
    },
    {
      "cell_type": "code",
      "source": [],
      "metadata": {
        "id": "9YZZp6rH9LwM"
      },
      "execution_count": 91,
      "outputs": []
    }
  ]
}