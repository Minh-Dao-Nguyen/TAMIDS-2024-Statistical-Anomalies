{
  "nbformat": 4,
  "nbformat_minor": 0,
  "metadata": {
    "colab": {
      "provenance": []
    },
    "kernelspec": {
      "name": "python3",
      "display_name": "Python 3"
    },
    "language_info": {
      "name": "python"
    }
  },
  "cells": [
    {
      "cell_type": "code",
      "execution_count": null,
      "metadata": {
        "colab": {
          "base_uri": "https://localhost:8080/"
        },
        "id": "fBFn9wvMcixx",
        "outputId": "84988c28-4e3a-47a8-eb27-da316f82115d"
      },
      "outputs": [
        {
          "output_type": "stream",
          "name": "stdout",
          "text": [
            "Requirement already satisfied: copernicusmarine in /usr/local/lib/python3.10/dist-packages (1.0.10)\n",
            "Requirement already satisfied: aiohttp>=3.8.5 in /usr/local/lib/python3.10/dist-packages (from copernicusmarine) (3.9.3)\n",
            "Requirement already satisfied: boto3>=1.25 in /usr/local/lib/python3.10/dist-packages (from copernicusmarine) (1.34.76)\n",
            "Requirement already satisfied: cachier>=2.2.1 in /usr/local/lib/python3.10/dist-packages (from copernicusmarine) (3.0.0)\n",
            "Requirement already satisfied: click>=8.0.4 in /usr/local/lib/python3.10/dist-packages (from copernicusmarine) (8.1.7)\n",
            "Requirement already satisfied: dask>=2022 in /usr/local/lib/python3.10/dist-packages (from copernicusmarine) (2023.8.1)\n",
            "Requirement already satisfied: lxml>=4.9.0 in /usr/local/lib/python3.10/dist-packages (from copernicusmarine) (4.9.4)\n",
            "Requirement already satisfied: motuclient>=1.8.4 in /usr/local/lib/python3.10/dist-packages (from copernicusmarine) (3.0.0)\n",
            "Requirement already satisfied: nest-asyncio>=1.5.8 in /usr/local/lib/python3.10/dist-packages (from copernicusmarine) (1.6.0)\n",
            "Requirement already satisfied: netCDF4>=1.5.4 in /usr/local/lib/python3.10/dist-packages (from copernicusmarine) (1.6.5)\n",
            "Requirement already satisfied: pydap>=3.2.2 in /usr/local/lib/python3.10/dist-packages (from copernicusmarine) (3.4.1)\n",
            "Requirement already satisfied: pystac>=1.8.3 in /usr/local/lib/python3.10/dist-packages (from copernicusmarine) (1.10.0)\n",
            "Requirement already satisfied: requests>=2.27.1 in /usr/local/lib/python3.10/dist-packages (from copernicusmarine) (2.31.0)\n",
            "Requirement already satisfied: semver>=3.0.2 in /usr/local/lib/python3.10/dist-packages (from copernicusmarine) (3.0.2)\n",
            "Requirement already satisfied: setuptools>=68.2.2 in /usr/local/lib/python3.10/dist-packages (from copernicusmarine) (69.2.0)\n",
            "Requirement already satisfied: tqdm>=4.65.0 in /usr/local/lib/python3.10/dist-packages (from copernicusmarine) (4.66.2)\n",
            "Requirement already satisfied: xarray>=2023.4.0 in /usr/local/lib/python3.10/dist-packages (from copernicusmarine) (2023.7.0)\n",
            "Requirement already satisfied: zarr>=2.13.3 in /usr/local/lib/python3.10/dist-packages (from copernicusmarine) (2.17.1)\n",
            "Requirement already satisfied: aiosignal>=1.1.2 in /usr/local/lib/python3.10/dist-packages (from aiohttp>=3.8.5->copernicusmarine) (1.3.1)\n",
            "Requirement already satisfied: attrs>=17.3.0 in /usr/local/lib/python3.10/dist-packages (from aiohttp>=3.8.5->copernicusmarine) (23.2.0)\n",
            "Requirement already satisfied: frozenlist>=1.1.1 in /usr/local/lib/python3.10/dist-packages (from aiohttp>=3.8.5->copernicusmarine) (1.4.1)\n",
            "Requirement already satisfied: multidict<7.0,>=4.5 in /usr/local/lib/python3.10/dist-packages (from aiohttp>=3.8.5->copernicusmarine) (6.0.5)\n",
            "Requirement already satisfied: yarl<2.0,>=1.0 in /usr/local/lib/python3.10/dist-packages (from aiohttp>=3.8.5->copernicusmarine) (1.9.4)\n",
            "Requirement already satisfied: async-timeout<5.0,>=4.0 in /usr/local/lib/python3.10/dist-packages (from aiohttp>=3.8.5->copernicusmarine) (4.0.3)\n",
            "Requirement already satisfied: botocore<1.35.0,>=1.34.76 in /usr/local/lib/python3.10/dist-packages (from boto3>=1.25->copernicusmarine) (1.34.76)\n",
            "Requirement already satisfied: jmespath<2.0.0,>=0.7.1 in /usr/local/lib/python3.10/dist-packages (from boto3>=1.25->copernicusmarine) (1.0.1)\n",
            "Requirement already satisfied: s3transfer<0.11.0,>=0.10.0 in /usr/local/lib/python3.10/dist-packages (from boto3>=1.25->copernicusmarine) (0.10.1)\n",
            "Requirement already satisfied: watchdog>=2.3.1 in /usr/local/lib/python3.10/dist-packages (from cachier>=2.2.1->copernicusmarine) (4.0.0)\n",
            "Requirement already satisfied: portalocker>=2.3.2 in /usr/local/lib/python3.10/dist-packages (from cachier>=2.2.1->copernicusmarine) (2.8.2)\n",
            "Requirement already satisfied: cloudpickle>=1.5.0 in /usr/local/lib/python3.10/dist-packages (from dask>=2022->copernicusmarine) (2.2.1)\n",
            "Requirement already satisfied: fsspec>=2021.09.0 in /usr/local/lib/python3.10/dist-packages (from dask>=2022->copernicusmarine) (2023.6.0)\n",
            "Requirement already satisfied: packaging>=20.0 in /usr/local/lib/python3.10/dist-packages (from dask>=2022->copernicusmarine) (24.0)\n",
            "Requirement already satisfied: partd>=1.2.0 in /usr/local/lib/python3.10/dist-packages (from dask>=2022->copernicusmarine) (1.4.1)\n",
            "Requirement already satisfied: pyyaml>=5.3.1 in /usr/local/lib/python3.10/dist-packages (from dask>=2022->copernicusmarine) (6.0.1)\n",
            "Requirement already satisfied: toolz>=0.10.0 in /usr/local/lib/python3.10/dist-packages (from dask>=2022->copernicusmarine) (0.12.1)\n",
            "Requirement already satisfied: importlib-metadata>=4.13.0 in /usr/local/lib/python3.10/dist-packages (from dask>=2022->copernicusmarine) (7.1.0)\n",
            "Requirement already satisfied: python-dateutil in /usr/local/lib/python3.10/dist-packages (from motuclient>=1.8.4->copernicusmarine) (2.8.2)\n",
            "Requirement already satisfied: cftime in /usr/local/lib/python3.10/dist-packages (from netCDF4>=1.5.4->copernicusmarine) (1.6.3)\n",
            "Requirement already satisfied: certifi in /usr/local/lib/python3.10/dist-packages (from netCDF4>=1.5.4->copernicusmarine) (2024.2.2)\n",
            "Requirement already satisfied: numpy in /usr/local/lib/python3.10/dist-packages (from netCDF4>=1.5.4->copernicusmarine) (1.25.2)\n",
            "Requirement already satisfied: Webob in /usr/local/lib/python3.10/dist-packages (from pydap>=3.2.2->copernicusmarine) (1.8.7)\n",
            "Requirement already satisfied: Jinja2 in /usr/local/lib/python3.10/dist-packages (from pydap>=3.2.2->copernicusmarine) (3.1.3)\n",
            "Requirement already satisfied: docopt in /usr/local/lib/python3.10/dist-packages (from pydap>=3.2.2->copernicusmarine) (0.6.2)\n",
            "Requirement already satisfied: six>=1.4.0 in /usr/local/lib/python3.10/dist-packages (from pydap>=3.2.2->copernicusmarine) (1.16.0)\n",
            "Requirement already satisfied: beautifulsoup4 in /usr/local/lib/python3.10/dist-packages (from pydap>=3.2.2->copernicusmarine) (4.12.3)\n",
            "Requirement already satisfied: charset-normalizer<4,>=2 in /usr/local/lib/python3.10/dist-packages (from requests>=2.27.1->copernicusmarine) (3.3.2)\n",
            "Requirement already satisfied: idna<4,>=2.5 in /usr/local/lib/python3.10/dist-packages (from requests>=2.27.1->copernicusmarine) (3.6)\n",
            "Requirement already satisfied: urllib3<3,>=1.21.1 in /usr/local/lib/python3.10/dist-packages (from requests>=2.27.1->copernicusmarine) (2.0.7)\n",
            "Requirement already satisfied: pandas>=1.4 in /usr/local/lib/python3.10/dist-packages (from xarray>=2023.4.0->copernicusmarine) (1.5.3)\n",
            "Requirement already satisfied: asciitree in /usr/local/lib/python3.10/dist-packages (from zarr>=2.13.3->copernicusmarine) (0.3.3)\n",
            "Requirement already satisfied: numcodecs>=0.10.0 in /usr/local/lib/python3.10/dist-packages (from zarr>=2.13.3->copernicusmarine) (0.12.1)\n",
            "Requirement already satisfied: fasteners in /usr/local/lib/python3.10/dist-packages (from zarr>=2.13.3->copernicusmarine) (0.19)\n",
            "Requirement already satisfied: zipp>=0.5 in /usr/local/lib/python3.10/dist-packages (from importlib-metadata>=4.13.0->dask>=2022->copernicusmarine) (3.18.1)\n",
            "Requirement already satisfied: pytz>=2020.1 in /usr/local/lib/python3.10/dist-packages (from pandas>=1.4->xarray>=2023.4.0->copernicusmarine) (2023.4)\n",
            "Requirement already satisfied: locket in /usr/local/lib/python3.10/dist-packages (from partd>=1.2.0->dask>=2022->copernicusmarine) (1.0.0)\n",
            "Requirement already satisfied: soupsieve>1.2 in /usr/local/lib/python3.10/dist-packages (from beautifulsoup4->pydap>=3.2.2->copernicusmarine) (2.5)\n",
            "Requirement already satisfied: MarkupSafe>=2.0 in /usr/local/lib/python3.10/dist-packages (from Jinja2->pydap>=3.2.2->copernicusmarine) (2.1.5)\n"
          ]
        }
      ],
      "source": [
        "!python -m pip install copernicusmarine"
      ]
    },
    {
      "cell_type": "code",
      "source": [
        "import copernicusmarine\n",
        "import pandas as pd\n",
        "\n",
        "target_dates = []\n",
        "start_year = 1993\n",
        "end_year = 2022\n",
        "for i in range(start_year, end_year+1):\n",
        "  target_dates += [str(i) + '-12-31']\n",
        "\n",
        "# Using the East Coast Coordinate Range( Longtitude and Latitude)\n",
        "min_lat = 25.00\n",
        "max_lat = 44.63\n",
        "min_long = -102\n",
        "max_long = -60\n",
        "\n",
        "# List Variables want to retrieve\n",
        "var_list = [\"adt\", \"sla\", \"ugos\", \"ugosa\", \"vgos\", \"vgosa\"]\n",
        "\n",
        "merged_df = pd.DataFrame()\n",
        "\n",
        "usr = 'mnguyen8'\n",
        "pwd = 'Tamid_2014'\n",
        "\n",
        "for i in target_dates:\n",
        "  # Load dataframe\n",
        "  request_dataframe = copernicusmarine.read_dataframe(\n",
        "      dataset_id = \"c3s_obs-sl_glo_phy-ssh_my_twosat-l4-duacs-0.25deg_P1D\",\n",
        "      username = usr,\n",
        "      password = pwd,\n",
        "      minimum_longitude = min_long,\n",
        "      maximum_longitude= max_long,\n",
        "      minimum_latitude= min_lat,\n",
        "      maximum_latitude= max_lat,\n",
        "      variables = var_list,\n",
        "      start_datetime = i,\n",
        "      end_datetime = i\n",
        "  )\n",
        "  merged_df = pd.concat([merged_df, request_dataframe])"
      ],
      "metadata": {
        "colab": {
          "base_uri": "https://localhost:8080/"
        },
        "id": "wSlF8v8Ho9BX",
        "outputId": "26a4d77e-7265-4c2c-cd80-ddec8ef6f51e"
      },
      "execution_count": null,
      "outputs": [
        {
          "output_type": "stream",
          "name": "stdout",
          "text": [
            "INFO - 2024-04-03T16:28:00Z - Dataset version was not specified, the latest one was selected: \"202112\"\n"
          ]
        },
        {
          "output_type": "stream",
          "name": "stderr",
          "text": [
            "INFO:copernicus_marine_root_logger:Dataset version was not specified, the latest one was selected: \"202112\"\n"
          ]
        },
        {
          "output_type": "stream",
          "name": "stdout",
          "text": [
            "INFO - 2024-04-03T16:28:00Z - Dataset part was not specified, the first one was selected: \"default\"\n"
          ]
        },
        {
          "output_type": "stream",
          "name": "stderr",
          "text": [
            "INFO:copernicus_marine_root_logger:Dataset part was not specified, the first one was selected: \"default\"\n"
          ]
        },
        {
          "output_type": "stream",
          "name": "stdout",
          "text": [
            "INFO - 2024-04-03T16:28:03Z - Service was not specified, the default one was selected: \"arco-geo-series\"\n"
          ]
        },
        {
          "output_type": "stream",
          "name": "stderr",
          "text": [
            "INFO:copernicus_marine_root_logger:Service was not specified, the default one was selected: \"arco-geo-series\"\n"
          ]
        },
        {
          "output_type": "stream",
          "name": "stdout",
          "text": [
            "INFO - 2024-04-03T16:28:12Z - Dataset version was not specified, the latest one was selected: \"202112\"\n"
          ]
        },
        {
          "output_type": "stream",
          "name": "stderr",
          "text": [
            "INFO:copernicus_marine_root_logger:Dataset version was not specified, the latest one was selected: \"202112\"\n"
          ]
        },
        {
          "output_type": "stream",
          "name": "stdout",
          "text": [
            "INFO - 2024-04-03T16:28:12Z - Dataset part was not specified, the first one was selected: \"default\"\n"
          ]
        },
        {
          "output_type": "stream",
          "name": "stderr",
          "text": [
            "INFO:copernicus_marine_root_logger:Dataset part was not specified, the first one was selected: \"default\"\n"
          ]
        },
        {
          "output_type": "stream",
          "name": "stdout",
          "text": [
            "INFO - 2024-04-03T16:28:15Z - Service was not specified, the default one was selected: \"arco-geo-series\"\n"
          ]
        },
        {
          "output_type": "stream",
          "name": "stderr",
          "text": [
            "INFO:copernicus_marine_root_logger:Service was not specified, the default one was selected: \"arco-geo-series\"\n"
          ]
        },
        {
          "output_type": "stream",
          "name": "stdout",
          "text": [
            "INFO - 2024-04-03T16:28:23Z - Dataset version was not specified, the latest one was selected: \"202112\"\n"
          ]
        },
        {
          "output_type": "stream",
          "name": "stderr",
          "text": [
            "INFO:copernicus_marine_root_logger:Dataset version was not specified, the latest one was selected: \"202112\"\n"
          ]
        },
        {
          "output_type": "stream",
          "name": "stdout",
          "text": [
            "INFO - 2024-04-03T16:28:23Z - Dataset part was not specified, the first one was selected: \"default\"\n"
          ]
        },
        {
          "output_type": "stream",
          "name": "stderr",
          "text": [
            "INFO:copernicus_marine_root_logger:Dataset part was not specified, the first one was selected: \"default\"\n"
          ]
        },
        {
          "output_type": "stream",
          "name": "stdout",
          "text": [
            "INFO - 2024-04-03T16:28:25Z - Service was not specified, the default one was selected: \"arco-geo-series\"\n"
          ]
        },
        {
          "output_type": "stream",
          "name": "stderr",
          "text": [
            "INFO:copernicus_marine_root_logger:Service was not specified, the default one was selected: \"arco-geo-series\"\n"
          ]
        },
        {
          "output_type": "stream",
          "name": "stdout",
          "text": [
            "INFO - 2024-04-03T16:28:34Z - Dataset version was not specified, the latest one was selected: \"202112\"\n"
          ]
        },
        {
          "output_type": "stream",
          "name": "stderr",
          "text": [
            "INFO:copernicus_marine_root_logger:Dataset version was not specified, the latest one was selected: \"202112\"\n"
          ]
        },
        {
          "output_type": "stream",
          "name": "stdout",
          "text": [
            "INFO - 2024-04-03T16:28:34Z - Dataset part was not specified, the first one was selected: \"default\"\n"
          ]
        },
        {
          "output_type": "stream",
          "name": "stderr",
          "text": [
            "INFO:copernicus_marine_root_logger:Dataset part was not specified, the first one was selected: \"default\"\n"
          ]
        },
        {
          "output_type": "stream",
          "name": "stdout",
          "text": [
            "INFO - 2024-04-03T16:28:36Z - Service was not specified, the default one was selected: \"arco-geo-series\"\n"
          ]
        },
        {
          "output_type": "stream",
          "name": "stderr",
          "text": [
            "INFO:copernicus_marine_root_logger:Service was not specified, the default one was selected: \"arco-geo-series\"\n"
          ]
        },
        {
          "output_type": "stream",
          "name": "stdout",
          "text": [
            "INFO - 2024-04-03T16:28:45Z - Dataset version was not specified, the latest one was selected: \"202112\"\n"
          ]
        },
        {
          "output_type": "stream",
          "name": "stderr",
          "text": [
            "INFO:copernicus_marine_root_logger:Dataset version was not specified, the latest one was selected: \"202112\"\n"
          ]
        },
        {
          "output_type": "stream",
          "name": "stdout",
          "text": [
            "INFO - 2024-04-03T16:28:45Z - Dataset part was not specified, the first one was selected: \"default\"\n"
          ]
        },
        {
          "output_type": "stream",
          "name": "stderr",
          "text": [
            "INFO:copernicus_marine_root_logger:Dataset part was not specified, the first one was selected: \"default\"\n"
          ]
        },
        {
          "output_type": "stream",
          "name": "stdout",
          "text": [
            "INFO - 2024-04-03T16:28:47Z - Service was not specified, the default one was selected: \"arco-geo-series\"\n"
          ]
        },
        {
          "output_type": "stream",
          "name": "stderr",
          "text": [
            "INFO:copernicus_marine_root_logger:Service was not specified, the default one was selected: \"arco-geo-series\"\n"
          ]
        },
        {
          "output_type": "stream",
          "name": "stdout",
          "text": [
            "INFO - 2024-04-03T16:28:57Z - Dataset version was not specified, the latest one was selected: \"202112\"\n"
          ]
        },
        {
          "output_type": "stream",
          "name": "stderr",
          "text": [
            "INFO:copernicus_marine_root_logger:Dataset version was not specified, the latest one was selected: \"202112\"\n"
          ]
        },
        {
          "output_type": "stream",
          "name": "stdout",
          "text": [
            "INFO - 2024-04-03T16:28:57Z - Dataset part was not specified, the first one was selected: \"default\"\n"
          ]
        },
        {
          "output_type": "stream",
          "name": "stderr",
          "text": [
            "INFO:copernicus_marine_root_logger:Dataset part was not specified, the first one was selected: \"default\"\n"
          ]
        },
        {
          "output_type": "stream",
          "name": "stdout",
          "text": [
            "INFO - 2024-04-03T16:28:59Z - Service was not specified, the default one was selected: \"arco-geo-series\"\n"
          ]
        },
        {
          "output_type": "stream",
          "name": "stderr",
          "text": [
            "INFO:copernicus_marine_root_logger:Service was not specified, the default one was selected: \"arco-geo-series\"\n"
          ]
        },
        {
          "output_type": "stream",
          "name": "stdout",
          "text": [
            "INFO - 2024-04-03T16:29:08Z - Dataset version was not specified, the latest one was selected: \"202112\"\n"
          ]
        },
        {
          "output_type": "stream",
          "name": "stderr",
          "text": [
            "INFO:copernicus_marine_root_logger:Dataset version was not specified, the latest one was selected: \"202112\"\n"
          ]
        },
        {
          "output_type": "stream",
          "name": "stdout",
          "text": [
            "INFO - 2024-04-03T16:29:08Z - Dataset part was not specified, the first one was selected: \"default\"\n"
          ]
        },
        {
          "output_type": "stream",
          "name": "stderr",
          "text": [
            "INFO:copernicus_marine_root_logger:Dataset part was not specified, the first one was selected: \"default\"\n"
          ]
        },
        {
          "output_type": "stream",
          "name": "stdout",
          "text": [
            "INFO - 2024-04-03T16:29:11Z - Service was not specified, the default one was selected: \"arco-geo-series\"\n"
          ]
        },
        {
          "output_type": "stream",
          "name": "stderr",
          "text": [
            "INFO:copernicus_marine_root_logger:Service was not specified, the default one was selected: \"arco-geo-series\"\n"
          ]
        },
        {
          "output_type": "stream",
          "name": "stdout",
          "text": [
            "INFO - 2024-04-03T16:29:19Z - Dataset version was not specified, the latest one was selected: \"202112\"\n"
          ]
        },
        {
          "output_type": "stream",
          "name": "stderr",
          "text": [
            "INFO:copernicus_marine_root_logger:Dataset version was not specified, the latest one was selected: \"202112\"\n"
          ]
        },
        {
          "output_type": "stream",
          "name": "stdout",
          "text": [
            "INFO - 2024-04-03T16:29:19Z - Dataset part was not specified, the first one was selected: \"default\"\n"
          ]
        },
        {
          "output_type": "stream",
          "name": "stderr",
          "text": [
            "INFO:copernicus_marine_root_logger:Dataset part was not specified, the first one was selected: \"default\"\n"
          ]
        },
        {
          "output_type": "stream",
          "name": "stdout",
          "text": [
            "INFO - 2024-04-03T16:29:22Z - Service was not specified, the default one was selected: \"arco-geo-series\"\n"
          ]
        },
        {
          "output_type": "stream",
          "name": "stderr",
          "text": [
            "INFO:copernicus_marine_root_logger:Service was not specified, the default one was selected: \"arco-geo-series\"\n"
          ]
        },
        {
          "output_type": "stream",
          "name": "stdout",
          "text": [
            "INFO - 2024-04-03T16:29:31Z - Dataset version was not specified, the latest one was selected: \"202112\"\n"
          ]
        },
        {
          "output_type": "stream",
          "name": "stderr",
          "text": [
            "INFO:copernicus_marine_root_logger:Dataset version was not specified, the latest one was selected: \"202112\"\n"
          ]
        },
        {
          "output_type": "stream",
          "name": "stdout",
          "text": [
            "INFO - 2024-04-03T16:29:31Z - Dataset part was not specified, the first one was selected: \"default\"\n"
          ]
        },
        {
          "output_type": "stream",
          "name": "stderr",
          "text": [
            "INFO:copernicus_marine_root_logger:Dataset part was not specified, the first one was selected: \"default\"\n"
          ]
        },
        {
          "output_type": "stream",
          "name": "stdout",
          "text": [
            "INFO - 2024-04-03T16:29:33Z - Service was not specified, the default one was selected: \"arco-geo-series\"\n"
          ]
        },
        {
          "output_type": "stream",
          "name": "stderr",
          "text": [
            "INFO:copernicus_marine_root_logger:Service was not specified, the default one was selected: \"arco-geo-series\"\n"
          ]
        },
        {
          "output_type": "stream",
          "name": "stdout",
          "text": [
            "INFO - 2024-04-03T16:29:42Z - Dataset version was not specified, the latest one was selected: \"202112\"\n"
          ]
        },
        {
          "output_type": "stream",
          "name": "stderr",
          "text": [
            "INFO:copernicus_marine_root_logger:Dataset version was not specified, the latest one was selected: \"202112\"\n"
          ]
        },
        {
          "output_type": "stream",
          "name": "stdout",
          "text": [
            "INFO - 2024-04-03T16:29:42Z - Dataset part was not specified, the first one was selected: \"default\"\n"
          ]
        },
        {
          "output_type": "stream",
          "name": "stderr",
          "text": [
            "INFO:copernicus_marine_root_logger:Dataset part was not specified, the first one was selected: \"default\"\n"
          ]
        },
        {
          "output_type": "stream",
          "name": "stdout",
          "text": [
            "INFO - 2024-04-03T16:29:44Z - Service was not specified, the default one was selected: \"arco-geo-series\"\n"
          ]
        },
        {
          "output_type": "stream",
          "name": "stderr",
          "text": [
            "INFO:copernicus_marine_root_logger:Service was not specified, the default one was selected: \"arco-geo-series\"\n"
          ]
        },
        {
          "output_type": "stream",
          "name": "stdout",
          "text": [
            "INFO - 2024-04-03T16:29:52Z - Dataset version was not specified, the latest one was selected: \"202112\"\n"
          ]
        },
        {
          "output_type": "stream",
          "name": "stderr",
          "text": [
            "INFO:copernicus_marine_root_logger:Dataset version was not specified, the latest one was selected: \"202112\"\n"
          ]
        },
        {
          "output_type": "stream",
          "name": "stdout",
          "text": [
            "INFO - 2024-04-03T16:29:52Z - Dataset part was not specified, the first one was selected: \"default\"\n"
          ]
        },
        {
          "output_type": "stream",
          "name": "stderr",
          "text": [
            "INFO:copernicus_marine_root_logger:Dataset part was not specified, the first one was selected: \"default\"\n"
          ]
        },
        {
          "output_type": "stream",
          "name": "stdout",
          "text": [
            "INFO - 2024-04-03T16:29:55Z - Service was not specified, the default one was selected: \"arco-geo-series\"\n"
          ]
        },
        {
          "output_type": "stream",
          "name": "stderr",
          "text": [
            "INFO:copernicus_marine_root_logger:Service was not specified, the default one was selected: \"arco-geo-series\"\n"
          ]
        },
        {
          "output_type": "stream",
          "name": "stdout",
          "text": [
            "INFO - 2024-04-03T16:30:04Z - Dataset version was not specified, the latest one was selected: \"202112\"\n"
          ]
        },
        {
          "output_type": "stream",
          "name": "stderr",
          "text": [
            "INFO:copernicus_marine_root_logger:Dataset version was not specified, the latest one was selected: \"202112\"\n"
          ]
        },
        {
          "output_type": "stream",
          "name": "stdout",
          "text": [
            "INFO - 2024-04-03T16:30:04Z - Dataset part was not specified, the first one was selected: \"default\"\n"
          ]
        },
        {
          "output_type": "stream",
          "name": "stderr",
          "text": [
            "INFO:copernicus_marine_root_logger:Dataset part was not specified, the first one was selected: \"default\"\n"
          ]
        },
        {
          "output_type": "stream",
          "name": "stdout",
          "text": [
            "INFO - 2024-04-03T16:30:06Z - Service was not specified, the default one was selected: \"arco-geo-series\"\n"
          ]
        },
        {
          "output_type": "stream",
          "name": "stderr",
          "text": [
            "INFO:copernicus_marine_root_logger:Service was not specified, the default one was selected: \"arco-geo-series\"\n"
          ]
        },
        {
          "output_type": "stream",
          "name": "stdout",
          "text": [
            "INFO - 2024-04-03T16:30:14Z - Dataset version was not specified, the latest one was selected: \"202112\"\n"
          ]
        },
        {
          "output_type": "stream",
          "name": "stderr",
          "text": [
            "INFO:copernicus_marine_root_logger:Dataset version was not specified, the latest one was selected: \"202112\"\n"
          ]
        },
        {
          "output_type": "stream",
          "name": "stdout",
          "text": [
            "INFO - 2024-04-03T16:30:14Z - Dataset part was not specified, the first one was selected: \"default\"\n"
          ]
        },
        {
          "output_type": "stream",
          "name": "stderr",
          "text": [
            "INFO:copernicus_marine_root_logger:Dataset part was not specified, the first one was selected: \"default\"\n"
          ]
        },
        {
          "output_type": "stream",
          "name": "stdout",
          "text": [
            "INFO - 2024-04-03T16:30:17Z - Service was not specified, the default one was selected: \"arco-geo-series\"\n"
          ]
        },
        {
          "output_type": "stream",
          "name": "stderr",
          "text": [
            "INFO:copernicus_marine_root_logger:Service was not specified, the default one was selected: \"arco-geo-series\"\n"
          ]
        },
        {
          "output_type": "stream",
          "name": "stdout",
          "text": [
            "INFO - 2024-04-03T16:30:26Z - Dataset version was not specified, the latest one was selected: \"202112\"\n"
          ]
        },
        {
          "output_type": "stream",
          "name": "stderr",
          "text": [
            "INFO:copernicus_marine_root_logger:Dataset version was not specified, the latest one was selected: \"202112\"\n"
          ]
        },
        {
          "output_type": "stream",
          "name": "stdout",
          "text": [
            "INFO - 2024-04-03T16:30:26Z - Dataset part was not specified, the first one was selected: \"default\"\n"
          ]
        },
        {
          "output_type": "stream",
          "name": "stderr",
          "text": [
            "INFO:copernicus_marine_root_logger:Dataset part was not specified, the first one was selected: \"default\"\n"
          ]
        },
        {
          "output_type": "stream",
          "name": "stdout",
          "text": [
            "INFO - 2024-04-03T16:30:28Z - Service was not specified, the default one was selected: \"arco-geo-series\"\n"
          ]
        },
        {
          "output_type": "stream",
          "name": "stderr",
          "text": [
            "INFO:copernicus_marine_root_logger:Service was not specified, the default one was selected: \"arco-geo-series\"\n"
          ]
        },
        {
          "output_type": "stream",
          "name": "stdout",
          "text": [
            "INFO - 2024-04-03T16:30:37Z - Dataset version was not specified, the latest one was selected: \"202112\"\n"
          ]
        },
        {
          "output_type": "stream",
          "name": "stderr",
          "text": [
            "INFO:copernicus_marine_root_logger:Dataset version was not specified, the latest one was selected: \"202112\"\n"
          ]
        },
        {
          "output_type": "stream",
          "name": "stdout",
          "text": [
            "INFO - 2024-04-03T16:30:37Z - Dataset part was not specified, the first one was selected: \"default\"\n"
          ]
        },
        {
          "output_type": "stream",
          "name": "stderr",
          "text": [
            "INFO:copernicus_marine_root_logger:Dataset part was not specified, the first one was selected: \"default\"\n"
          ]
        },
        {
          "output_type": "stream",
          "name": "stdout",
          "text": [
            "INFO - 2024-04-03T16:30:40Z - Service was not specified, the default one was selected: \"arco-geo-series\"\n"
          ]
        },
        {
          "output_type": "stream",
          "name": "stderr",
          "text": [
            "INFO:copernicus_marine_root_logger:Service was not specified, the default one was selected: \"arco-geo-series\"\n"
          ]
        },
        {
          "output_type": "stream",
          "name": "stdout",
          "text": [
            "INFO - 2024-04-03T16:30:48Z - Dataset version was not specified, the latest one was selected: \"202112\"\n"
          ]
        },
        {
          "output_type": "stream",
          "name": "stderr",
          "text": [
            "INFO:copernicus_marine_root_logger:Dataset version was not specified, the latest one was selected: \"202112\"\n"
          ]
        },
        {
          "output_type": "stream",
          "name": "stdout",
          "text": [
            "INFO - 2024-04-03T16:30:48Z - Dataset part was not specified, the first one was selected: \"default\"\n"
          ]
        },
        {
          "output_type": "stream",
          "name": "stderr",
          "text": [
            "INFO:copernicus_marine_root_logger:Dataset part was not specified, the first one was selected: \"default\"\n"
          ]
        },
        {
          "output_type": "stream",
          "name": "stdout",
          "text": [
            "INFO - 2024-04-03T16:30:51Z - Service was not specified, the default one was selected: \"arco-geo-series\"\n"
          ]
        },
        {
          "output_type": "stream",
          "name": "stderr",
          "text": [
            "INFO:copernicus_marine_root_logger:Service was not specified, the default one was selected: \"arco-geo-series\"\n"
          ]
        },
        {
          "output_type": "stream",
          "name": "stdout",
          "text": [
            "INFO - 2024-04-03T16:31:00Z - Dataset version was not specified, the latest one was selected: \"202112\"\n"
          ]
        },
        {
          "output_type": "stream",
          "name": "stderr",
          "text": [
            "INFO:copernicus_marine_root_logger:Dataset version was not specified, the latest one was selected: \"202112\"\n"
          ]
        },
        {
          "output_type": "stream",
          "name": "stdout",
          "text": [
            "INFO - 2024-04-03T16:31:00Z - Dataset part was not specified, the first one was selected: \"default\"\n"
          ]
        },
        {
          "output_type": "stream",
          "name": "stderr",
          "text": [
            "INFO:copernicus_marine_root_logger:Dataset part was not specified, the first one was selected: \"default\"\n"
          ]
        },
        {
          "output_type": "stream",
          "name": "stdout",
          "text": [
            "INFO - 2024-04-03T16:31:03Z - Service was not specified, the default one was selected: \"arco-geo-series\"\n"
          ]
        },
        {
          "output_type": "stream",
          "name": "stderr",
          "text": [
            "INFO:copernicus_marine_root_logger:Service was not specified, the default one was selected: \"arco-geo-series\"\n"
          ]
        },
        {
          "output_type": "stream",
          "name": "stdout",
          "text": [
            "INFO - 2024-04-03T16:31:11Z - Dataset version was not specified, the latest one was selected: \"202112\"\n"
          ]
        },
        {
          "output_type": "stream",
          "name": "stderr",
          "text": [
            "INFO:copernicus_marine_root_logger:Dataset version was not specified, the latest one was selected: \"202112\"\n"
          ]
        },
        {
          "output_type": "stream",
          "name": "stdout",
          "text": [
            "INFO - 2024-04-03T16:31:11Z - Dataset part was not specified, the first one was selected: \"default\"\n"
          ]
        },
        {
          "output_type": "stream",
          "name": "stderr",
          "text": [
            "INFO:copernicus_marine_root_logger:Dataset part was not specified, the first one was selected: \"default\"\n"
          ]
        },
        {
          "output_type": "stream",
          "name": "stdout",
          "text": [
            "INFO - 2024-04-03T16:31:14Z - Service was not specified, the default one was selected: \"arco-geo-series\"\n"
          ]
        },
        {
          "output_type": "stream",
          "name": "stderr",
          "text": [
            "INFO:copernicus_marine_root_logger:Service was not specified, the default one was selected: \"arco-geo-series\"\n"
          ]
        },
        {
          "output_type": "stream",
          "name": "stdout",
          "text": [
            "INFO - 2024-04-03T16:31:22Z - Dataset version was not specified, the latest one was selected: \"202112\"\n"
          ]
        },
        {
          "output_type": "stream",
          "name": "stderr",
          "text": [
            "INFO:copernicus_marine_root_logger:Dataset version was not specified, the latest one was selected: \"202112\"\n"
          ]
        },
        {
          "output_type": "stream",
          "name": "stdout",
          "text": [
            "INFO - 2024-04-03T16:31:22Z - Dataset part was not specified, the first one was selected: \"default\"\n"
          ]
        },
        {
          "output_type": "stream",
          "name": "stderr",
          "text": [
            "INFO:copernicus_marine_root_logger:Dataset part was not specified, the first one was selected: \"default\"\n"
          ]
        },
        {
          "output_type": "stream",
          "name": "stdout",
          "text": [
            "INFO - 2024-04-03T16:31:25Z - Service was not specified, the default one was selected: \"arco-geo-series\"\n"
          ]
        },
        {
          "output_type": "stream",
          "name": "stderr",
          "text": [
            "INFO:copernicus_marine_root_logger:Service was not specified, the default one was selected: \"arco-geo-series\"\n"
          ]
        },
        {
          "output_type": "stream",
          "name": "stdout",
          "text": [
            "INFO - 2024-04-03T16:31:33Z - Dataset version was not specified, the latest one was selected: \"202112\"\n"
          ]
        },
        {
          "output_type": "stream",
          "name": "stderr",
          "text": [
            "INFO:copernicus_marine_root_logger:Dataset version was not specified, the latest one was selected: \"202112\"\n"
          ]
        },
        {
          "output_type": "stream",
          "name": "stdout",
          "text": [
            "INFO - 2024-04-03T16:31:33Z - Dataset part was not specified, the first one was selected: \"default\"\n"
          ]
        },
        {
          "output_type": "stream",
          "name": "stderr",
          "text": [
            "INFO:copernicus_marine_root_logger:Dataset part was not specified, the first one was selected: \"default\"\n"
          ]
        },
        {
          "output_type": "stream",
          "name": "stdout",
          "text": [
            "INFO - 2024-04-03T16:31:36Z - Service was not specified, the default one was selected: \"arco-geo-series\"\n"
          ]
        },
        {
          "output_type": "stream",
          "name": "stderr",
          "text": [
            "INFO:copernicus_marine_root_logger:Service was not specified, the default one was selected: \"arco-geo-series\"\n"
          ]
        },
        {
          "output_type": "stream",
          "name": "stdout",
          "text": [
            "INFO - 2024-04-03T16:31:44Z - Dataset version was not specified, the latest one was selected: \"202112\"\n"
          ]
        },
        {
          "output_type": "stream",
          "name": "stderr",
          "text": [
            "INFO:copernicus_marine_root_logger:Dataset version was not specified, the latest one was selected: \"202112\"\n"
          ]
        },
        {
          "output_type": "stream",
          "name": "stdout",
          "text": [
            "INFO - 2024-04-03T16:31:44Z - Dataset part was not specified, the first one was selected: \"default\"\n"
          ]
        },
        {
          "output_type": "stream",
          "name": "stderr",
          "text": [
            "INFO:copernicus_marine_root_logger:Dataset part was not specified, the first one was selected: \"default\"\n"
          ]
        },
        {
          "output_type": "stream",
          "name": "stdout",
          "text": [
            "INFO - 2024-04-03T16:31:46Z - Service was not specified, the default one was selected: \"arco-geo-series\"\n"
          ]
        },
        {
          "output_type": "stream",
          "name": "stderr",
          "text": [
            "INFO:copernicus_marine_root_logger:Service was not specified, the default one was selected: \"arco-geo-series\"\n"
          ]
        },
        {
          "output_type": "stream",
          "name": "stdout",
          "text": [
            "INFO - 2024-04-03T16:31:55Z - Dataset version was not specified, the latest one was selected: \"202112\"\n"
          ]
        },
        {
          "output_type": "stream",
          "name": "stderr",
          "text": [
            "INFO:copernicus_marine_root_logger:Dataset version was not specified, the latest one was selected: \"202112\"\n"
          ]
        },
        {
          "output_type": "stream",
          "name": "stdout",
          "text": [
            "INFO - 2024-04-03T16:31:55Z - Dataset part was not specified, the first one was selected: \"default\"\n"
          ]
        },
        {
          "output_type": "stream",
          "name": "stderr",
          "text": [
            "INFO:copernicus_marine_root_logger:Dataset part was not specified, the first one was selected: \"default\"\n"
          ]
        },
        {
          "output_type": "stream",
          "name": "stdout",
          "text": [
            "INFO - 2024-04-03T16:31:58Z - Service was not specified, the default one was selected: \"arco-geo-series\"\n"
          ]
        },
        {
          "output_type": "stream",
          "name": "stderr",
          "text": [
            "INFO:copernicus_marine_root_logger:Service was not specified, the default one was selected: \"arco-geo-series\"\n"
          ]
        },
        {
          "output_type": "stream",
          "name": "stdout",
          "text": [
            "INFO - 2024-04-03T16:32:06Z - Dataset version was not specified, the latest one was selected: \"202112\"\n"
          ]
        },
        {
          "output_type": "stream",
          "name": "stderr",
          "text": [
            "INFO:copernicus_marine_root_logger:Dataset version was not specified, the latest one was selected: \"202112\"\n"
          ]
        },
        {
          "output_type": "stream",
          "name": "stdout",
          "text": [
            "INFO - 2024-04-03T16:32:06Z - Dataset part was not specified, the first one was selected: \"default\"\n"
          ]
        },
        {
          "output_type": "stream",
          "name": "stderr",
          "text": [
            "INFO:copernicus_marine_root_logger:Dataset part was not specified, the first one was selected: \"default\"\n"
          ]
        },
        {
          "output_type": "stream",
          "name": "stdout",
          "text": [
            "INFO - 2024-04-03T16:32:09Z - Service was not specified, the default one was selected: \"arco-geo-series\"\n"
          ]
        },
        {
          "output_type": "stream",
          "name": "stderr",
          "text": [
            "INFO:copernicus_marine_root_logger:Service was not specified, the default one was selected: \"arco-geo-series\"\n"
          ]
        },
        {
          "output_type": "stream",
          "name": "stdout",
          "text": [
            "INFO - 2024-04-03T16:32:17Z - Dataset version was not specified, the latest one was selected: \"202112\"\n"
          ]
        },
        {
          "output_type": "stream",
          "name": "stderr",
          "text": [
            "INFO:copernicus_marine_root_logger:Dataset version was not specified, the latest one was selected: \"202112\"\n"
          ]
        },
        {
          "output_type": "stream",
          "name": "stdout",
          "text": [
            "INFO - 2024-04-03T16:32:17Z - Dataset part was not specified, the first one was selected: \"default\"\n"
          ]
        },
        {
          "output_type": "stream",
          "name": "stderr",
          "text": [
            "INFO:copernicus_marine_root_logger:Dataset part was not specified, the first one was selected: \"default\"\n"
          ]
        },
        {
          "output_type": "stream",
          "name": "stdout",
          "text": [
            "INFO - 2024-04-03T16:32:20Z - Service was not specified, the default one was selected: \"arco-geo-series\"\n"
          ]
        },
        {
          "output_type": "stream",
          "name": "stderr",
          "text": [
            "INFO:copernicus_marine_root_logger:Service was not specified, the default one was selected: \"arco-geo-series\"\n"
          ]
        },
        {
          "output_type": "stream",
          "name": "stdout",
          "text": [
            "INFO - 2024-04-03T16:32:29Z - Dataset version was not specified, the latest one was selected: \"202112\"\n"
          ]
        },
        {
          "output_type": "stream",
          "name": "stderr",
          "text": [
            "INFO:copernicus_marine_root_logger:Dataset version was not specified, the latest one was selected: \"202112\"\n"
          ]
        },
        {
          "output_type": "stream",
          "name": "stdout",
          "text": [
            "INFO - 2024-04-03T16:32:29Z - Dataset part was not specified, the first one was selected: \"default\"\n"
          ]
        },
        {
          "output_type": "stream",
          "name": "stderr",
          "text": [
            "INFO:copernicus_marine_root_logger:Dataset part was not specified, the first one was selected: \"default\"\n"
          ]
        },
        {
          "output_type": "stream",
          "name": "stdout",
          "text": [
            "INFO - 2024-04-03T16:32:31Z - Service was not specified, the default one was selected: \"arco-geo-series\"\n"
          ]
        },
        {
          "output_type": "stream",
          "name": "stderr",
          "text": [
            "INFO:copernicus_marine_root_logger:Service was not specified, the default one was selected: \"arco-geo-series\"\n"
          ]
        },
        {
          "output_type": "stream",
          "name": "stdout",
          "text": [
            "INFO - 2024-04-03T16:32:40Z - Dataset version was not specified, the latest one was selected: \"202112\"\n"
          ]
        },
        {
          "output_type": "stream",
          "name": "stderr",
          "text": [
            "INFO:copernicus_marine_root_logger:Dataset version was not specified, the latest one was selected: \"202112\"\n"
          ]
        },
        {
          "output_type": "stream",
          "name": "stdout",
          "text": [
            "INFO - 2024-04-03T16:32:40Z - Dataset part was not specified, the first one was selected: \"default\"\n"
          ]
        },
        {
          "output_type": "stream",
          "name": "stderr",
          "text": [
            "INFO:copernicus_marine_root_logger:Dataset part was not specified, the first one was selected: \"default\"\n"
          ]
        },
        {
          "output_type": "stream",
          "name": "stdout",
          "text": [
            "INFO - 2024-04-03T16:32:43Z - Service was not specified, the default one was selected: \"arco-geo-series\"\n"
          ]
        },
        {
          "output_type": "stream",
          "name": "stderr",
          "text": [
            "INFO:copernicus_marine_root_logger:Service was not specified, the default one was selected: \"arco-geo-series\"\n"
          ]
        },
        {
          "output_type": "stream",
          "name": "stdout",
          "text": [
            "INFO - 2024-04-03T16:32:51Z - Dataset version was not specified, the latest one was selected: \"202112\"\n"
          ]
        },
        {
          "output_type": "stream",
          "name": "stderr",
          "text": [
            "INFO:copernicus_marine_root_logger:Dataset version was not specified, the latest one was selected: \"202112\"\n"
          ]
        },
        {
          "output_type": "stream",
          "name": "stdout",
          "text": [
            "INFO - 2024-04-03T16:32:51Z - Dataset part was not specified, the first one was selected: \"default\"\n"
          ]
        },
        {
          "output_type": "stream",
          "name": "stderr",
          "text": [
            "INFO:copernicus_marine_root_logger:Dataset part was not specified, the first one was selected: \"default\"\n"
          ]
        },
        {
          "output_type": "stream",
          "name": "stdout",
          "text": [
            "INFO - 2024-04-03T16:32:54Z - Service was not specified, the default one was selected: \"arco-geo-series\"\n"
          ]
        },
        {
          "output_type": "stream",
          "name": "stderr",
          "text": [
            "INFO:copernicus_marine_root_logger:Service was not specified, the default one was selected: \"arco-geo-series\"\n"
          ]
        },
        {
          "output_type": "stream",
          "name": "stdout",
          "text": [
            "INFO - 2024-04-03T16:33:02Z - Dataset version was not specified, the latest one was selected: \"202112\"\n"
          ]
        },
        {
          "output_type": "stream",
          "name": "stderr",
          "text": [
            "INFO:copernicus_marine_root_logger:Dataset version was not specified, the latest one was selected: \"202112\"\n"
          ]
        },
        {
          "output_type": "stream",
          "name": "stdout",
          "text": [
            "INFO - 2024-04-03T16:33:02Z - Dataset part was not specified, the first one was selected: \"default\"\n"
          ]
        },
        {
          "output_type": "stream",
          "name": "stderr",
          "text": [
            "INFO:copernicus_marine_root_logger:Dataset part was not specified, the first one was selected: \"default\"\n"
          ]
        },
        {
          "output_type": "stream",
          "name": "stdout",
          "text": [
            "INFO - 2024-04-03T16:33:05Z - Service was not specified, the default one was selected: \"arco-geo-series\"\n"
          ]
        },
        {
          "output_type": "stream",
          "name": "stderr",
          "text": [
            "INFO:copernicus_marine_root_logger:Service was not specified, the default one was selected: \"arco-geo-series\"\n"
          ]
        },
        {
          "output_type": "stream",
          "name": "stdout",
          "text": [
            "INFO - 2024-04-03T16:33:14Z - Dataset version was not specified, the latest one was selected: \"202112\"\n"
          ]
        },
        {
          "output_type": "stream",
          "name": "stderr",
          "text": [
            "INFO:copernicus_marine_root_logger:Dataset version was not specified, the latest one was selected: \"202112\"\n"
          ]
        },
        {
          "output_type": "stream",
          "name": "stdout",
          "text": [
            "INFO - 2024-04-03T16:33:14Z - Dataset part was not specified, the first one was selected: \"default\"\n"
          ]
        },
        {
          "output_type": "stream",
          "name": "stderr",
          "text": [
            "INFO:copernicus_marine_root_logger:Dataset part was not specified, the first one was selected: \"default\"\n"
          ]
        },
        {
          "output_type": "stream",
          "name": "stdout",
          "text": [
            "INFO - 2024-04-03T16:33:17Z - Service was not specified, the default one was selected: \"arco-geo-series\"\n"
          ]
        },
        {
          "output_type": "stream",
          "name": "stderr",
          "text": [
            "INFO:copernicus_marine_root_logger:Service was not specified, the default one was selected: \"arco-geo-series\"\n"
          ]
        },
        {
          "output_type": "stream",
          "name": "stdout",
          "text": [
            "INFO - 2024-04-03T16:33:25Z - Dataset version was not specified, the latest one was selected: \"202112\"\n"
          ]
        },
        {
          "output_type": "stream",
          "name": "stderr",
          "text": [
            "INFO:copernicus_marine_root_logger:Dataset version was not specified, the latest one was selected: \"202112\"\n"
          ]
        },
        {
          "output_type": "stream",
          "name": "stdout",
          "text": [
            "INFO - 2024-04-03T16:33:25Z - Dataset part was not specified, the first one was selected: \"default\"\n"
          ]
        },
        {
          "output_type": "stream",
          "name": "stderr",
          "text": [
            "INFO:copernicus_marine_root_logger:Dataset part was not specified, the first one was selected: \"default\"\n"
          ]
        },
        {
          "output_type": "stream",
          "name": "stdout",
          "text": [
            "INFO - 2024-04-03T16:33:28Z - Service was not specified, the default one was selected: \"arco-geo-series\"\n"
          ]
        },
        {
          "output_type": "stream",
          "name": "stderr",
          "text": [
            "INFO:copernicus_marine_root_logger:Service was not specified, the default one was selected: \"arco-geo-series\"\n"
          ]
        }
      ]
    },
    {
      "cell_type": "code",
      "source": [
        "merged_df"
      ],
      "metadata": {
        "id": "Qt_QM1kopj2b",
        "colab": {
          "base_uri": "https://localhost:8080/",
          "height": 455
        },
        "outputId": "2fc7b78b-06ed-415a-e983-9ec349fa3b87"
      },
      "execution_count": null,
      "outputs": [
        {
          "output_type": "execute_result",
          "data": {
            "text/plain": [
              "                                  adt     sla    ugos   ugosa    vgos   vgosa\n",
              "time       latitude longitude                                                \n",
              "1993-12-31 25.125   -101.875      NaN     NaN     NaN     NaN     NaN     NaN\n",
              "                    -101.625      NaN     NaN     NaN     NaN     NaN     NaN\n",
              "                    -101.375      NaN     NaN     NaN     NaN     NaN     NaN\n",
              "                    -101.125      NaN     NaN     NaN     NaN     NaN     NaN\n",
              "                    -100.875      NaN     NaN     NaN     NaN     NaN     NaN\n",
              "...                               ...     ...     ...     ...     ...     ...\n",
              "2022-12-31 44.625   -61.125   -0.0191  0.1136 -0.0862 -0.0182  0.0750  0.0737\n",
              "                    -60.875   -0.0047  0.1283 -0.0556 -0.0228  0.0344  0.0390\n",
              "                    -60.625   -0.0077  0.1286 -0.0357 -0.0378 -0.0370 -0.0131\n",
              "                    -60.375   -0.0117  0.1293 -0.0190 -0.0389 -0.0026  0.0279\n",
              "                    -60.125   -0.0061  0.1374 -0.0171 -0.0419  0.0141  0.0296\n",
              "\n",
              "[398160 rows x 6 columns]"
            ],
            "text/html": [
              "\n",
              "  <div id=\"df-8a01dcd3-4c1b-4b84-bb96-e1d51b94bada\" class=\"colab-df-container\">\n",
              "    <div>\n",
              "<style scoped>\n",
              "    .dataframe tbody tr th:only-of-type {\n",
              "        vertical-align: middle;\n",
              "    }\n",
              "\n",
              "    .dataframe tbody tr th {\n",
              "        vertical-align: top;\n",
              "    }\n",
              "\n",
              "    .dataframe thead th {\n",
              "        text-align: right;\n",
              "    }\n",
              "</style>\n",
              "<table border=\"1\" class=\"dataframe\">\n",
              "  <thead>\n",
              "    <tr style=\"text-align: right;\">\n",
              "      <th></th>\n",
              "      <th></th>\n",
              "      <th></th>\n",
              "      <th>adt</th>\n",
              "      <th>sla</th>\n",
              "      <th>ugos</th>\n",
              "      <th>ugosa</th>\n",
              "      <th>vgos</th>\n",
              "      <th>vgosa</th>\n",
              "    </tr>\n",
              "    <tr>\n",
              "      <th>time</th>\n",
              "      <th>latitude</th>\n",
              "      <th>longitude</th>\n",
              "      <th></th>\n",
              "      <th></th>\n",
              "      <th></th>\n",
              "      <th></th>\n",
              "      <th></th>\n",
              "      <th></th>\n",
              "    </tr>\n",
              "  </thead>\n",
              "  <tbody>\n",
              "    <tr>\n",
              "      <th rowspan=\"5\" valign=\"top\">1993-12-31</th>\n",
              "      <th rowspan=\"5\" valign=\"top\">25.125</th>\n",
              "      <th>-101.875</th>\n",
              "      <td>NaN</td>\n",
              "      <td>NaN</td>\n",
              "      <td>NaN</td>\n",
              "      <td>NaN</td>\n",
              "      <td>NaN</td>\n",
              "      <td>NaN</td>\n",
              "    </tr>\n",
              "    <tr>\n",
              "      <th>-101.625</th>\n",
              "      <td>NaN</td>\n",
              "      <td>NaN</td>\n",
              "      <td>NaN</td>\n",
              "      <td>NaN</td>\n",
              "      <td>NaN</td>\n",
              "      <td>NaN</td>\n",
              "    </tr>\n",
              "    <tr>\n",
              "      <th>-101.375</th>\n",
              "      <td>NaN</td>\n",
              "      <td>NaN</td>\n",
              "      <td>NaN</td>\n",
              "      <td>NaN</td>\n",
              "      <td>NaN</td>\n",
              "      <td>NaN</td>\n",
              "    </tr>\n",
              "    <tr>\n",
              "      <th>-101.125</th>\n",
              "      <td>NaN</td>\n",
              "      <td>NaN</td>\n",
              "      <td>NaN</td>\n",
              "      <td>NaN</td>\n",
              "      <td>NaN</td>\n",
              "      <td>NaN</td>\n",
              "    </tr>\n",
              "    <tr>\n",
              "      <th>-100.875</th>\n",
              "      <td>NaN</td>\n",
              "      <td>NaN</td>\n",
              "      <td>NaN</td>\n",
              "      <td>NaN</td>\n",
              "      <td>NaN</td>\n",
              "      <td>NaN</td>\n",
              "    </tr>\n",
              "    <tr>\n",
              "      <th>...</th>\n",
              "      <th>...</th>\n",
              "      <th>...</th>\n",
              "      <td>...</td>\n",
              "      <td>...</td>\n",
              "      <td>...</td>\n",
              "      <td>...</td>\n",
              "      <td>...</td>\n",
              "      <td>...</td>\n",
              "    </tr>\n",
              "    <tr>\n",
              "      <th rowspan=\"5\" valign=\"top\">2022-12-31</th>\n",
              "      <th rowspan=\"5\" valign=\"top\">44.625</th>\n",
              "      <th>-61.125</th>\n",
              "      <td>-0.0191</td>\n",
              "      <td>0.1136</td>\n",
              "      <td>-0.0862</td>\n",
              "      <td>-0.0182</td>\n",
              "      <td>0.0750</td>\n",
              "      <td>0.0737</td>\n",
              "    </tr>\n",
              "    <tr>\n",
              "      <th>-60.875</th>\n",
              "      <td>-0.0047</td>\n",
              "      <td>0.1283</td>\n",
              "      <td>-0.0556</td>\n",
              "      <td>-0.0228</td>\n",
              "      <td>0.0344</td>\n",
              "      <td>0.0390</td>\n",
              "    </tr>\n",
              "    <tr>\n",
              "      <th>-60.625</th>\n",
              "      <td>-0.0077</td>\n",
              "      <td>0.1286</td>\n",
              "      <td>-0.0357</td>\n",
              "      <td>-0.0378</td>\n",
              "      <td>-0.0370</td>\n",
              "      <td>-0.0131</td>\n",
              "    </tr>\n",
              "    <tr>\n",
              "      <th>-60.375</th>\n",
              "      <td>-0.0117</td>\n",
              "      <td>0.1293</td>\n",
              "      <td>-0.0190</td>\n",
              "      <td>-0.0389</td>\n",
              "      <td>-0.0026</td>\n",
              "      <td>0.0279</td>\n",
              "    </tr>\n",
              "    <tr>\n",
              "      <th>-60.125</th>\n",
              "      <td>-0.0061</td>\n",
              "      <td>0.1374</td>\n",
              "      <td>-0.0171</td>\n",
              "      <td>-0.0419</td>\n",
              "      <td>0.0141</td>\n",
              "      <td>0.0296</td>\n",
              "    </tr>\n",
              "  </tbody>\n",
              "</table>\n",
              "<p>398160 rows × 6 columns</p>\n",
              "</div>\n",
              "    <div class=\"colab-df-buttons\">\n",
              "\n",
              "  <div class=\"colab-df-container\">\n",
              "    <button class=\"colab-df-convert\" onclick=\"convertToInteractive('df-8a01dcd3-4c1b-4b84-bb96-e1d51b94bada')\"\n",
              "            title=\"Convert this dataframe to an interactive table.\"\n",
              "            style=\"display:none;\">\n",
              "\n",
              "  <svg xmlns=\"http://www.w3.org/2000/svg\" height=\"24px\" viewBox=\"0 -960 960 960\">\n",
              "    <path d=\"M120-120v-720h720v720H120Zm60-500h600v-160H180v160Zm220 220h160v-160H400v160Zm0 220h160v-160H400v160ZM180-400h160v-160H180v160Zm440 0h160v-160H620v160ZM180-180h160v-160H180v160Zm440 0h160v-160H620v160Z\"/>\n",
              "  </svg>\n",
              "    </button>\n",
              "\n",
              "  <style>\n",
              "    .colab-df-container {\n",
              "      display:flex;\n",
              "      gap: 12px;\n",
              "    }\n",
              "\n",
              "    .colab-df-convert {\n",
              "      background-color: #E8F0FE;\n",
              "      border: none;\n",
              "      border-radius: 50%;\n",
              "      cursor: pointer;\n",
              "      display: none;\n",
              "      fill: #1967D2;\n",
              "      height: 32px;\n",
              "      padding: 0 0 0 0;\n",
              "      width: 32px;\n",
              "    }\n",
              "\n",
              "    .colab-df-convert:hover {\n",
              "      background-color: #E2EBFA;\n",
              "      box-shadow: 0px 1px 2px rgba(60, 64, 67, 0.3), 0px 1px 3px 1px rgba(60, 64, 67, 0.15);\n",
              "      fill: #174EA6;\n",
              "    }\n",
              "\n",
              "    .colab-df-buttons div {\n",
              "      margin-bottom: 4px;\n",
              "    }\n",
              "\n",
              "    [theme=dark] .colab-df-convert {\n",
              "      background-color: #3B4455;\n",
              "      fill: #D2E3FC;\n",
              "    }\n",
              "\n",
              "    [theme=dark] .colab-df-convert:hover {\n",
              "      background-color: #434B5C;\n",
              "      box-shadow: 0px 1px 3px 1px rgba(0, 0, 0, 0.15);\n",
              "      filter: drop-shadow(0px 1px 2px rgba(0, 0, 0, 0.3));\n",
              "      fill: #FFFFFF;\n",
              "    }\n",
              "  </style>\n",
              "\n",
              "    <script>\n",
              "      const buttonEl =\n",
              "        document.querySelector('#df-8a01dcd3-4c1b-4b84-bb96-e1d51b94bada button.colab-df-convert');\n",
              "      buttonEl.style.display =\n",
              "        google.colab.kernel.accessAllowed ? 'block' : 'none';\n",
              "\n",
              "      async function convertToInteractive(key) {\n",
              "        const element = document.querySelector('#df-8a01dcd3-4c1b-4b84-bb96-e1d51b94bada');\n",
              "        const dataTable =\n",
              "          await google.colab.kernel.invokeFunction('convertToInteractive',\n",
              "                                                    [key], {});\n",
              "        if (!dataTable) return;\n",
              "\n",
              "        const docLinkHtml = 'Like what you see? Visit the ' +\n",
              "          '<a target=\"_blank\" href=https://colab.research.google.com/notebooks/data_table.ipynb>data table notebook</a>'\n",
              "          + ' to learn more about interactive tables.';\n",
              "        element.innerHTML = '';\n",
              "        dataTable['output_type'] = 'display_data';\n",
              "        await google.colab.output.renderOutput(dataTable, element);\n",
              "        const docLink = document.createElement('div');\n",
              "        docLink.innerHTML = docLinkHtml;\n",
              "        element.appendChild(docLink);\n",
              "      }\n",
              "    </script>\n",
              "  </div>\n",
              "\n",
              "\n",
              "<div id=\"df-5f2cc85a-b70a-42d1-b1c9-61529b3251cb\">\n",
              "  <button class=\"colab-df-quickchart\" onclick=\"quickchart('df-5f2cc85a-b70a-42d1-b1c9-61529b3251cb')\"\n",
              "            title=\"Suggest charts\"\n",
              "            style=\"display:none;\">\n",
              "\n",
              "<svg xmlns=\"http://www.w3.org/2000/svg\" height=\"24px\"viewBox=\"0 0 24 24\"\n",
              "     width=\"24px\">\n",
              "    <g>\n",
              "        <path d=\"M19 3H5c-1.1 0-2 .9-2 2v14c0 1.1.9 2 2 2h14c1.1 0 2-.9 2-2V5c0-1.1-.9-2-2-2zM9 17H7v-7h2v7zm4 0h-2V7h2v10zm4 0h-2v-4h2v4z\"/>\n",
              "    </g>\n",
              "</svg>\n",
              "  </button>\n",
              "\n",
              "<style>\n",
              "  .colab-df-quickchart {\n",
              "      --bg-color: #E8F0FE;\n",
              "      --fill-color: #1967D2;\n",
              "      --hover-bg-color: #E2EBFA;\n",
              "      --hover-fill-color: #174EA6;\n",
              "      --disabled-fill-color: #AAA;\n",
              "      --disabled-bg-color: #DDD;\n",
              "  }\n",
              "\n",
              "  [theme=dark] .colab-df-quickchart {\n",
              "      --bg-color: #3B4455;\n",
              "      --fill-color: #D2E3FC;\n",
              "      --hover-bg-color: #434B5C;\n",
              "      --hover-fill-color: #FFFFFF;\n",
              "      --disabled-bg-color: #3B4455;\n",
              "      --disabled-fill-color: #666;\n",
              "  }\n",
              "\n",
              "  .colab-df-quickchart {\n",
              "    background-color: var(--bg-color);\n",
              "    border: none;\n",
              "    border-radius: 50%;\n",
              "    cursor: pointer;\n",
              "    display: none;\n",
              "    fill: var(--fill-color);\n",
              "    height: 32px;\n",
              "    padding: 0;\n",
              "    width: 32px;\n",
              "  }\n",
              "\n",
              "  .colab-df-quickchart:hover {\n",
              "    background-color: var(--hover-bg-color);\n",
              "    box-shadow: 0 1px 2px rgba(60, 64, 67, 0.3), 0 1px 3px 1px rgba(60, 64, 67, 0.15);\n",
              "    fill: var(--button-hover-fill-color);\n",
              "  }\n",
              "\n",
              "  .colab-df-quickchart-complete:disabled,\n",
              "  .colab-df-quickchart-complete:disabled:hover {\n",
              "    background-color: var(--disabled-bg-color);\n",
              "    fill: var(--disabled-fill-color);\n",
              "    box-shadow: none;\n",
              "  }\n",
              "\n",
              "  .colab-df-spinner {\n",
              "    border: 2px solid var(--fill-color);\n",
              "    border-color: transparent;\n",
              "    border-bottom-color: var(--fill-color);\n",
              "    animation:\n",
              "      spin 1s steps(1) infinite;\n",
              "  }\n",
              "\n",
              "  @keyframes spin {\n",
              "    0% {\n",
              "      border-color: transparent;\n",
              "      border-bottom-color: var(--fill-color);\n",
              "      border-left-color: var(--fill-color);\n",
              "    }\n",
              "    20% {\n",
              "      border-color: transparent;\n",
              "      border-left-color: var(--fill-color);\n",
              "      border-top-color: var(--fill-color);\n",
              "    }\n",
              "    30% {\n",
              "      border-color: transparent;\n",
              "      border-left-color: var(--fill-color);\n",
              "      border-top-color: var(--fill-color);\n",
              "      border-right-color: var(--fill-color);\n",
              "    }\n",
              "    40% {\n",
              "      border-color: transparent;\n",
              "      border-right-color: var(--fill-color);\n",
              "      border-top-color: var(--fill-color);\n",
              "    }\n",
              "    60% {\n",
              "      border-color: transparent;\n",
              "      border-right-color: var(--fill-color);\n",
              "    }\n",
              "    80% {\n",
              "      border-color: transparent;\n",
              "      border-right-color: var(--fill-color);\n",
              "      border-bottom-color: var(--fill-color);\n",
              "    }\n",
              "    90% {\n",
              "      border-color: transparent;\n",
              "      border-bottom-color: var(--fill-color);\n",
              "    }\n",
              "  }\n",
              "</style>\n",
              "\n",
              "  <script>\n",
              "    async function quickchart(key) {\n",
              "      const quickchartButtonEl =\n",
              "        document.querySelector('#' + key + ' button');\n",
              "      quickchartButtonEl.disabled = true;  // To prevent multiple clicks.\n",
              "      quickchartButtonEl.classList.add('colab-df-spinner');\n",
              "      try {\n",
              "        const charts = await google.colab.kernel.invokeFunction(\n",
              "            'suggestCharts', [key], {});\n",
              "      } catch (error) {\n",
              "        console.error('Error during call to suggestCharts:', error);\n",
              "      }\n",
              "      quickchartButtonEl.classList.remove('colab-df-spinner');\n",
              "      quickchartButtonEl.classList.add('colab-df-quickchart-complete');\n",
              "    }\n",
              "    (() => {\n",
              "      let quickchartButtonEl =\n",
              "        document.querySelector('#df-5f2cc85a-b70a-42d1-b1c9-61529b3251cb button');\n",
              "      quickchartButtonEl.style.display =\n",
              "        google.colab.kernel.accessAllowed ? 'block' : 'none';\n",
              "    })();\n",
              "  </script>\n",
              "</div>\n",
              "    </div>\n",
              "  </div>\n"
            ],
            "application/vnd.google.colaboratory.intrinsic+json": {
              "type": "dataframe",
              "variable_name": "merged_df"
            }
          },
          "metadata": {},
          "execution_count": 18
        }
      ]
    },
    {
      "cell_type": "code",
      "source": [
        "# Filter Data\n",
        "seaLevel_df = merged_df\n",
        "seaLevel_df.dropna(inplace=True)"
      ],
      "metadata": {
        "id": "Z5qMNkJwg83r"
      },
      "execution_count": null,
      "outputs": []
    },
    {
      "cell_type": "code",
      "source": [
        "seaLevel_df"
      ],
      "metadata": {
        "id": "waxzCYAbis4G",
        "colab": {
          "base_uri": "https://localhost:8080/",
          "height": 455
        },
        "outputId": "03fcab2b-2bac-478a-a3fa-c6d5643d8846"
      },
      "execution_count": null,
      "outputs": [
        {
          "output_type": "execute_result",
          "data": {
            "text/plain": [
              "                                  adt     sla    ugos   ugosa    vgos   vgosa\n",
              "time       latitude longitude                                                \n",
              "1993-12-31 25.125   -97.625    0.2879  0.0490  0.0762  0.0690  0.0350  0.0190\n",
              "                    -97.375    0.2886  0.0513  0.0042  0.0123 -0.0125 -0.0270\n",
              "                    -97.125    0.2741  0.0383  0.0102  0.0092 -0.1150 -0.1317\n",
              "                    -96.875    0.2493  0.0117  0.0452  0.0198 -0.1553 -0.1847\n",
              "                    -96.625    0.2224 -0.0225  0.1280  0.0724 -0.2139 -0.2773\n",
              "...                               ...     ...     ...     ...     ...     ...\n",
              "2022-12-31 44.625   -61.125   -0.0191  0.1136 -0.0862 -0.0182  0.0750  0.0737\n",
              "                    -60.875   -0.0047  0.1283 -0.0556 -0.0228  0.0344  0.0390\n",
              "                    -60.625   -0.0077  0.1286 -0.0357 -0.0378 -0.0370 -0.0131\n",
              "                    -60.375   -0.0117  0.1293 -0.0190 -0.0389 -0.0026  0.0279\n",
              "                    -60.125   -0.0061  0.1374 -0.0171 -0.0419  0.0141  0.0296\n",
              "\n",
              "[193710 rows x 6 columns]"
            ],
            "text/html": [
              "\n",
              "  <div id=\"df-1c536824-fa49-460c-92bd-3b3d4c9db7af\" class=\"colab-df-container\">\n",
              "    <div>\n",
              "<style scoped>\n",
              "    .dataframe tbody tr th:only-of-type {\n",
              "        vertical-align: middle;\n",
              "    }\n",
              "\n",
              "    .dataframe tbody tr th {\n",
              "        vertical-align: top;\n",
              "    }\n",
              "\n",
              "    .dataframe thead th {\n",
              "        text-align: right;\n",
              "    }\n",
              "</style>\n",
              "<table border=\"1\" class=\"dataframe\">\n",
              "  <thead>\n",
              "    <tr style=\"text-align: right;\">\n",
              "      <th></th>\n",
              "      <th></th>\n",
              "      <th></th>\n",
              "      <th>adt</th>\n",
              "      <th>sla</th>\n",
              "      <th>ugos</th>\n",
              "      <th>ugosa</th>\n",
              "      <th>vgos</th>\n",
              "      <th>vgosa</th>\n",
              "    </tr>\n",
              "    <tr>\n",
              "      <th>time</th>\n",
              "      <th>latitude</th>\n",
              "      <th>longitude</th>\n",
              "      <th></th>\n",
              "      <th></th>\n",
              "      <th></th>\n",
              "      <th></th>\n",
              "      <th></th>\n",
              "      <th></th>\n",
              "    </tr>\n",
              "  </thead>\n",
              "  <tbody>\n",
              "    <tr>\n",
              "      <th rowspan=\"5\" valign=\"top\">1993-12-31</th>\n",
              "      <th rowspan=\"5\" valign=\"top\">25.125</th>\n",
              "      <th>-97.625</th>\n",
              "      <td>0.2879</td>\n",
              "      <td>0.0490</td>\n",
              "      <td>0.0762</td>\n",
              "      <td>0.0690</td>\n",
              "      <td>0.0350</td>\n",
              "      <td>0.0190</td>\n",
              "    </tr>\n",
              "    <tr>\n",
              "      <th>-97.375</th>\n",
              "      <td>0.2886</td>\n",
              "      <td>0.0513</td>\n",
              "      <td>0.0042</td>\n",
              "      <td>0.0123</td>\n",
              "      <td>-0.0125</td>\n",
              "      <td>-0.0270</td>\n",
              "    </tr>\n",
              "    <tr>\n",
              "      <th>-97.125</th>\n",
              "      <td>0.2741</td>\n",
              "      <td>0.0383</td>\n",
              "      <td>0.0102</td>\n",
              "      <td>0.0092</td>\n",
              "      <td>-0.1150</td>\n",
              "      <td>-0.1317</td>\n",
              "    </tr>\n",
              "    <tr>\n",
              "      <th>-96.875</th>\n",
              "      <td>0.2493</td>\n",
              "      <td>0.0117</td>\n",
              "      <td>0.0452</td>\n",
              "      <td>0.0198</td>\n",
              "      <td>-0.1553</td>\n",
              "      <td>-0.1847</td>\n",
              "    </tr>\n",
              "    <tr>\n",
              "      <th>-96.625</th>\n",
              "      <td>0.2224</td>\n",
              "      <td>-0.0225</td>\n",
              "      <td>0.1280</td>\n",
              "      <td>0.0724</td>\n",
              "      <td>-0.2139</td>\n",
              "      <td>-0.2773</td>\n",
              "    </tr>\n",
              "    <tr>\n",
              "      <th>...</th>\n",
              "      <th>...</th>\n",
              "      <th>...</th>\n",
              "      <td>...</td>\n",
              "      <td>...</td>\n",
              "      <td>...</td>\n",
              "      <td>...</td>\n",
              "      <td>...</td>\n",
              "      <td>...</td>\n",
              "    </tr>\n",
              "    <tr>\n",
              "      <th rowspan=\"5\" valign=\"top\">2022-12-31</th>\n",
              "      <th rowspan=\"5\" valign=\"top\">44.625</th>\n",
              "      <th>-61.125</th>\n",
              "      <td>-0.0191</td>\n",
              "      <td>0.1136</td>\n",
              "      <td>-0.0862</td>\n",
              "      <td>-0.0182</td>\n",
              "      <td>0.0750</td>\n",
              "      <td>0.0737</td>\n",
              "    </tr>\n",
              "    <tr>\n",
              "      <th>-60.875</th>\n",
              "      <td>-0.0047</td>\n",
              "      <td>0.1283</td>\n",
              "      <td>-0.0556</td>\n",
              "      <td>-0.0228</td>\n",
              "      <td>0.0344</td>\n",
              "      <td>0.0390</td>\n",
              "    </tr>\n",
              "    <tr>\n",
              "      <th>-60.625</th>\n",
              "      <td>-0.0077</td>\n",
              "      <td>0.1286</td>\n",
              "      <td>-0.0357</td>\n",
              "      <td>-0.0378</td>\n",
              "      <td>-0.0370</td>\n",
              "      <td>-0.0131</td>\n",
              "    </tr>\n",
              "    <tr>\n",
              "      <th>-60.375</th>\n",
              "      <td>-0.0117</td>\n",
              "      <td>0.1293</td>\n",
              "      <td>-0.0190</td>\n",
              "      <td>-0.0389</td>\n",
              "      <td>-0.0026</td>\n",
              "      <td>0.0279</td>\n",
              "    </tr>\n",
              "    <tr>\n",
              "      <th>-60.125</th>\n",
              "      <td>-0.0061</td>\n",
              "      <td>0.1374</td>\n",
              "      <td>-0.0171</td>\n",
              "      <td>-0.0419</td>\n",
              "      <td>0.0141</td>\n",
              "      <td>0.0296</td>\n",
              "    </tr>\n",
              "  </tbody>\n",
              "</table>\n",
              "<p>193710 rows × 6 columns</p>\n",
              "</div>\n",
              "    <div class=\"colab-df-buttons\">\n",
              "\n",
              "  <div class=\"colab-df-container\">\n",
              "    <button class=\"colab-df-convert\" onclick=\"convertToInteractive('df-1c536824-fa49-460c-92bd-3b3d4c9db7af')\"\n",
              "            title=\"Convert this dataframe to an interactive table.\"\n",
              "            style=\"display:none;\">\n",
              "\n",
              "  <svg xmlns=\"http://www.w3.org/2000/svg\" height=\"24px\" viewBox=\"0 -960 960 960\">\n",
              "    <path d=\"M120-120v-720h720v720H120Zm60-500h600v-160H180v160Zm220 220h160v-160H400v160Zm0 220h160v-160H400v160ZM180-400h160v-160H180v160Zm440 0h160v-160H620v160ZM180-180h160v-160H180v160Zm440 0h160v-160H620v160Z\"/>\n",
              "  </svg>\n",
              "    </button>\n",
              "\n",
              "  <style>\n",
              "    .colab-df-container {\n",
              "      display:flex;\n",
              "      gap: 12px;\n",
              "    }\n",
              "\n",
              "    .colab-df-convert {\n",
              "      background-color: #E8F0FE;\n",
              "      border: none;\n",
              "      border-radius: 50%;\n",
              "      cursor: pointer;\n",
              "      display: none;\n",
              "      fill: #1967D2;\n",
              "      height: 32px;\n",
              "      padding: 0 0 0 0;\n",
              "      width: 32px;\n",
              "    }\n",
              "\n",
              "    .colab-df-convert:hover {\n",
              "      background-color: #E2EBFA;\n",
              "      box-shadow: 0px 1px 2px rgba(60, 64, 67, 0.3), 0px 1px 3px 1px rgba(60, 64, 67, 0.15);\n",
              "      fill: #174EA6;\n",
              "    }\n",
              "\n",
              "    .colab-df-buttons div {\n",
              "      margin-bottom: 4px;\n",
              "    }\n",
              "\n",
              "    [theme=dark] .colab-df-convert {\n",
              "      background-color: #3B4455;\n",
              "      fill: #D2E3FC;\n",
              "    }\n",
              "\n",
              "    [theme=dark] .colab-df-convert:hover {\n",
              "      background-color: #434B5C;\n",
              "      box-shadow: 0px 1px 3px 1px rgba(0, 0, 0, 0.15);\n",
              "      filter: drop-shadow(0px 1px 2px rgba(0, 0, 0, 0.3));\n",
              "      fill: #FFFFFF;\n",
              "    }\n",
              "  </style>\n",
              "\n",
              "    <script>\n",
              "      const buttonEl =\n",
              "        document.querySelector('#df-1c536824-fa49-460c-92bd-3b3d4c9db7af button.colab-df-convert');\n",
              "      buttonEl.style.display =\n",
              "        google.colab.kernel.accessAllowed ? 'block' : 'none';\n",
              "\n",
              "      async function convertToInteractive(key) {\n",
              "        const element = document.querySelector('#df-1c536824-fa49-460c-92bd-3b3d4c9db7af');\n",
              "        const dataTable =\n",
              "          await google.colab.kernel.invokeFunction('convertToInteractive',\n",
              "                                                    [key], {});\n",
              "        if (!dataTable) return;\n",
              "\n",
              "        const docLinkHtml = 'Like what you see? Visit the ' +\n",
              "          '<a target=\"_blank\" href=https://colab.research.google.com/notebooks/data_table.ipynb>data table notebook</a>'\n",
              "          + ' to learn more about interactive tables.';\n",
              "        element.innerHTML = '';\n",
              "        dataTable['output_type'] = 'display_data';\n",
              "        await google.colab.output.renderOutput(dataTable, element);\n",
              "        const docLink = document.createElement('div');\n",
              "        docLink.innerHTML = docLinkHtml;\n",
              "        element.appendChild(docLink);\n",
              "      }\n",
              "    </script>\n",
              "  </div>\n",
              "\n",
              "\n",
              "<div id=\"df-1b958449-45ce-4abd-a5a0-bb1d73254727\">\n",
              "  <button class=\"colab-df-quickchart\" onclick=\"quickchart('df-1b958449-45ce-4abd-a5a0-bb1d73254727')\"\n",
              "            title=\"Suggest charts\"\n",
              "            style=\"display:none;\">\n",
              "\n",
              "<svg xmlns=\"http://www.w3.org/2000/svg\" height=\"24px\"viewBox=\"0 0 24 24\"\n",
              "     width=\"24px\">\n",
              "    <g>\n",
              "        <path d=\"M19 3H5c-1.1 0-2 .9-2 2v14c0 1.1.9 2 2 2h14c1.1 0 2-.9 2-2V5c0-1.1-.9-2-2-2zM9 17H7v-7h2v7zm4 0h-2V7h2v10zm4 0h-2v-4h2v4z\"/>\n",
              "    </g>\n",
              "</svg>\n",
              "  </button>\n",
              "\n",
              "<style>\n",
              "  .colab-df-quickchart {\n",
              "      --bg-color: #E8F0FE;\n",
              "      --fill-color: #1967D2;\n",
              "      --hover-bg-color: #E2EBFA;\n",
              "      --hover-fill-color: #174EA6;\n",
              "      --disabled-fill-color: #AAA;\n",
              "      --disabled-bg-color: #DDD;\n",
              "  }\n",
              "\n",
              "  [theme=dark] .colab-df-quickchart {\n",
              "      --bg-color: #3B4455;\n",
              "      --fill-color: #D2E3FC;\n",
              "      --hover-bg-color: #434B5C;\n",
              "      --hover-fill-color: #FFFFFF;\n",
              "      --disabled-bg-color: #3B4455;\n",
              "      --disabled-fill-color: #666;\n",
              "  }\n",
              "\n",
              "  .colab-df-quickchart {\n",
              "    background-color: var(--bg-color);\n",
              "    border: none;\n",
              "    border-radius: 50%;\n",
              "    cursor: pointer;\n",
              "    display: none;\n",
              "    fill: var(--fill-color);\n",
              "    height: 32px;\n",
              "    padding: 0;\n",
              "    width: 32px;\n",
              "  }\n",
              "\n",
              "  .colab-df-quickchart:hover {\n",
              "    background-color: var(--hover-bg-color);\n",
              "    box-shadow: 0 1px 2px rgba(60, 64, 67, 0.3), 0 1px 3px 1px rgba(60, 64, 67, 0.15);\n",
              "    fill: var(--button-hover-fill-color);\n",
              "  }\n",
              "\n",
              "  .colab-df-quickchart-complete:disabled,\n",
              "  .colab-df-quickchart-complete:disabled:hover {\n",
              "    background-color: var(--disabled-bg-color);\n",
              "    fill: var(--disabled-fill-color);\n",
              "    box-shadow: none;\n",
              "  }\n",
              "\n",
              "  .colab-df-spinner {\n",
              "    border: 2px solid var(--fill-color);\n",
              "    border-color: transparent;\n",
              "    border-bottom-color: var(--fill-color);\n",
              "    animation:\n",
              "      spin 1s steps(1) infinite;\n",
              "  }\n",
              "\n",
              "  @keyframes spin {\n",
              "    0% {\n",
              "      border-color: transparent;\n",
              "      border-bottom-color: var(--fill-color);\n",
              "      border-left-color: var(--fill-color);\n",
              "    }\n",
              "    20% {\n",
              "      border-color: transparent;\n",
              "      border-left-color: var(--fill-color);\n",
              "      border-top-color: var(--fill-color);\n",
              "    }\n",
              "    30% {\n",
              "      border-color: transparent;\n",
              "      border-left-color: var(--fill-color);\n",
              "      border-top-color: var(--fill-color);\n",
              "      border-right-color: var(--fill-color);\n",
              "    }\n",
              "    40% {\n",
              "      border-color: transparent;\n",
              "      border-right-color: var(--fill-color);\n",
              "      border-top-color: var(--fill-color);\n",
              "    }\n",
              "    60% {\n",
              "      border-color: transparent;\n",
              "      border-right-color: var(--fill-color);\n",
              "    }\n",
              "    80% {\n",
              "      border-color: transparent;\n",
              "      border-right-color: var(--fill-color);\n",
              "      border-bottom-color: var(--fill-color);\n",
              "    }\n",
              "    90% {\n",
              "      border-color: transparent;\n",
              "      border-bottom-color: var(--fill-color);\n",
              "    }\n",
              "  }\n",
              "</style>\n",
              "\n",
              "  <script>\n",
              "    async function quickchart(key) {\n",
              "      const quickchartButtonEl =\n",
              "        document.querySelector('#' + key + ' button');\n",
              "      quickchartButtonEl.disabled = true;  // To prevent multiple clicks.\n",
              "      quickchartButtonEl.classList.add('colab-df-spinner');\n",
              "      try {\n",
              "        const charts = await google.colab.kernel.invokeFunction(\n",
              "            'suggestCharts', [key], {});\n",
              "      } catch (error) {\n",
              "        console.error('Error during call to suggestCharts:', error);\n",
              "      }\n",
              "      quickchartButtonEl.classList.remove('colab-df-spinner');\n",
              "      quickchartButtonEl.classList.add('colab-df-quickchart-complete');\n",
              "    }\n",
              "    (() => {\n",
              "      let quickchartButtonEl =\n",
              "        document.querySelector('#df-1b958449-45ce-4abd-a5a0-bb1d73254727 button');\n",
              "      quickchartButtonEl.style.display =\n",
              "        google.colab.kernel.accessAllowed ? 'block' : 'none';\n",
              "    })();\n",
              "  </script>\n",
              "</div>\n",
              "    </div>\n",
              "  </div>\n"
            ],
            "application/vnd.google.colaboratory.intrinsic+json": {
              "type": "dataframe",
              "variable_name": "merged_df"
            }
          },
          "metadata": {},
          "execution_count": 28
        }
      ]
    },
    {
      "cell_type": "code",
      "source": [
        "import pandas as pd\n",
        "\n",
        "# Get the States Latitude and Longitude Range Dataset\n",
        "stateDF = pd.read_csv('USstates_Lat&Long.csv')\n",
        "\n",
        "# Function to assign states based on latitude and longitude\n",
        "def get_state(latitude, longitude):\n",
        "    # Find the row where latitude and longitude fall within the range\n",
        "    state_row = stateDF[(stateDF['Lat_min'] <= latitude) & (stateDF['Lat_max'] >= latitude) &\n",
        "                        (stateDF['Long_min'] <= longitude) & (stateDF['Long_max'] >= longitude)]\n",
        "\n",
        "    # If a matching row is found, return the corresponding state\n",
        "    if not state_row.empty:\n",
        "        return state_row.iloc[0]['State']\n",
        "    else:\n",
        "        return None\n",
        "\n",
        "# Apply the function to create a new 'State' column in df\n",
        "seaLevel_df['State'] = seaLevel_df.apply(lambda x: get_state(x.name[1], x.name[2]), axis=1)\n",
        "\n",
        "# Filter out rows where state is not found\n",
        "seaLevel_df = seaLevel_df.dropna(subset=['State'])"
      ],
      "metadata": {
        "id": "Z9Kll95HfFWQ"
      },
      "execution_count": null,
      "outputs": []
    },
    {
      "cell_type": "code",
      "source": [
        "seaLevel_df.shape"
      ],
      "metadata": {
        "colab": {
          "base_uri": "https://localhost:8080/"
        },
        "id": "gNvcg9rVh74l",
        "outputId": "b17f31e2-9d37-4ffb-db2b-b33c4025dba0"
      },
      "execution_count": null,
      "outputs": [
        {
          "output_type": "execute_result",
          "data": {
            "text/plain": [
              "(32760, 7)"
            ]
          },
          "metadata": {},
          "execution_count": 30
        }
      ]
    },
    {
      "cell_type": "code",
      "source": [
        "seaLevel_df['State'].unique()"
      ],
      "metadata": {
        "colab": {
          "base_uri": "https://localhost:8080/"
        },
        "id": "ZAQxr-oCsI4q",
        "outputId": "c824b3cb-9913-4a3e-e63f-8810d6b1007e"
      },
      "execution_count": null,
      "outputs": [
        {
          "output_type": "execute_result",
          "data": {
            "text/plain": [
              "array(['FL', 'TX', 'LA', 'MS', 'AL', 'GA', 'SC', 'NC', 'VA', 'MD', 'DE',\n",
              "       'NJ', 'NY', 'CT', 'MA', 'ME'], dtype=object)"
            ]
          },
          "metadata": {},
          "execution_count": 31
        }
      ]
    },
    {
      "cell_type": "code",
      "source": [
        "seaLevel_df.to_excel('test.xlsx')"
      ],
      "metadata": {
        "id": "BTYYtr0BiK92"
      },
      "execution_count": null,
      "outputs": []
    },
    {
      "cell_type": "code",
      "source": [
        "seaLevel_df"
      ],
      "metadata": {
        "colab": {
          "base_uri": "https://localhost:8080/",
          "height": 455
        },
        "id": "vNSQ0EkwV9KB",
        "outputId": "e1fd8652-1ea8-4574-a657-ffef4760df08"
      },
      "execution_count": null,
      "outputs": [
        {
          "output_type": "execute_result",
          "data": {
            "text/plain": [
              "                                  adt     sla    ugos   ugosa    vgos   vgosa  \\\n",
              "time       latitude longitude                                                   \n",
              "1993-12-31 25.125   -87.625    0.4769 -0.0494  0.0949  0.3197  0.9933  0.5913   \n",
              "                    -87.375    0.6395  0.0520  0.0853  0.2225  0.9698  0.6212   \n",
              "                    -87.125    0.7659  0.1321  0.1488  0.1840  0.5921  0.3504   \n",
              "                    -86.875    0.8366  0.1714  0.2345  0.1871  0.3700  0.2322   \n",
              "                    -86.625    0.8879  0.2104  0.4573  0.3581  0.2571  0.1894   \n",
              "...                               ...     ...     ...     ...     ...     ...   \n",
              "2022-12-31 44.375   -67.125    0.0637  0.1860 -0.0421 -0.0058  0.0331  0.0516   \n",
              "                    -66.875    0.0707  0.1978 -0.0599 -0.0438  0.0651  0.0694   \n",
              "           44.625   -67.375    0.0464  0.1627  0.0322  0.0353  0.0778  0.1085   \n",
              "                    -67.125    0.0593  0.1791  0.0159  0.0202  0.0451  0.0673   \n",
              "                    -66.875    0.0725  0.1975  0.0251  0.0285  0.1119  0.1289   \n",
              "\n",
              "                              State  \n",
              "time       latitude longitude        \n",
              "1993-12-31 25.125   -87.625      FL  \n",
              "                    -87.375      FL  \n",
              "                    -87.125      FL  \n",
              "                    -86.875      FL  \n",
              "                    -86.625      FL  \n",
              "...                             ...  \n",
              "2022-12-31 44.375   -67.125      ME  \n",
              "                    -66.875      ME  \n",
              "           44.625   -67.375      ME  \n",
              "                    -67.125      ME  \n",
              "                    -66.875      ME  \n",
              "\n",
              "[32760 rows x 7 columns]"
            ],
            "text/html": [
              "\n",
              "  <div id=\"df-e112d0a0-0120-4b28-ad3e-e6fb5317440b\" class=\"colab-df-container\">\n",
              "    <div>\n",
              "<style scoped>\n",
              "    .dataframe tbody tr th:only-of-type {\n",
              "        vertical-align: middle;\n",
              "    }\n",
              "\n",
              "    .dataframe tbody tr th {\n",
              "        vertical-align: top;\n",
              "    }\n",
              "\n",
              "    .dataframe thead th {\n",
              "        text-align: right;\n",
              "    }\n",
              "</style>\n",
              "<table border=\"1\" class=\"dataframe\">\n",
              "  <thead>\n",
              "    <tr style=\"text-align: right;\">\n",
              "      <th></th>\n",
              "      <th></th>\n",
              "      <th></th>\n",
              "      <th>adt</th>\n",
              "      <th>sla</th>\n",
              "      <th>ugos</th>\n",
              "      <th>ugosa</th>\n",
              "      <th>vgos</th>\n",
              "      <th>vgosa</th>\n",
              "      <th>State</th>\n",
              "    </tr>\n",
              "    <tr>\n",
              "      <th>time</th>\n",
              "      <th>latitude</th>\n",
              "      <th>longitude</th>\n",
              "      <th></th>\n",
              "      <th></th>\n",
              "      <th></th>\n",
              "      <th></th>\n",
              "      <th></th>\n",
              "      <th></th>\n",
              "      <th></th>\n",
              "    </tr>\n",
              "  </thead>\n",
              "  <tbody>\n",
              "    <tr>\n",
              "      <th rowspan=\"5\" valign=\"top\">1993-12-31</th>\n",
              "      <th rowspan=\"5\" valign=\"top\">25.125</th>\n",
              "      <th>-87.625</th>\n",
              "      <td>0.4769</td>\n",
              "      <td>-0.0494</td>\n",
              "      <td>0.0949</td>\n",
              "      <td>0.3197</td>\n",
              "      <td>0.9933</td>\n",
              "      <td>0.5913</td>\n",
              "      <td>FL</td>\n",
              "    </tr>\n",
              "    <tr>\n",
              "      <th>-87.375</th>\n",
              "      <td>0.6395</td>\n",
              "      <td>0.0520</td>\n",
              "      <td>0.0853</td>\n",
              "      <td>0.2225</td>\n",
              "      <td>0.9698</td>\n",
              "      <td>0.6212</td>\n",
              "      <td>FL</td>\n",
              "    </tr>\n",
              "    <tr>\n",
              "      <th>-87.125</th>\n",
              "      <td>0.7659</td>\n",
              "      <td>0.1321</td>\n",
              "      <td>0.1488</td>\n",
              "      <td>0.1840</td>\n",
              "      <td>0.5921</td>\n",
              "      <td>0.3504</td>\n",
              "      <td>FL</td>\n",
              "    </tr>\n",
              "    <tr>\n",
              "      <th>-86.875</th>\n",
              "      <td>0.8366</td>\n",
              "      <td>0.1714</td>\n",
              "      <td>0.2345</td>\n",
              "      <td>0.1871</td>\n",
              "      <td>0.3700</td>\n",
              "      <td>0.2322</td>\n",
              "      <td>FL</td>\n",
              "    </tr>\n",
              "    <tr>\n",
              "      <th>-86.625</th>\n",
              "      <td>0.8879</td>\n",
              "      <td>0.2104</td>\n",
              "      <td>0.4573</td>\n",
              "      <td>0.3581</td>\n",
              "      <td>0.2571</td>\n",
              "      <td>0.1894</td>\n",
              "      <td>FL</td>\n",
              "    </tr>\n",
              "    <tr>\n",
              "      <th>...</th>\n",
              "      <th>...</th>\n",
              "      <th>...</th>\n",
              "      <td>...</td>\n",
              "      <td>...</td>\n",
              "      <td>...</td>\n",
              "      <td>...</td>\n",
              "      <td>...</td>\n",
              "      <td>...</td>\n",
              "      <td>...</td>\n",
              "    </tr>\n",
              "    <tr>\n",
              "      <th rowspan=\"5\" valign=\"top\">2022-12-31</th>\n",
              "      <th rowspan=\"2\" valign=\"top\">44.375</th>\n",
              "      <th>-67.125</th>\n",
              "      <td>0.0637</td>\n",
              "      <td>0.1860</td>\n",
              "      <td>-0.0421</td>\n",
              "      <td>-0.0058</td>\n",
              "      <td>0.0331</td>\n",
              "      <td>0.0516</td>\n",
              "      <td>ME</td>\n",
              "    </tr>\n",
              "    <tr>\n",
              "      <th>-66.875</th>\n",
              "      <td>0.0707</td>\n",
              "      <td>0.1978</td>\n",
              "      <td>-0.0599</td>\n",
              "      <td>-0.0438</td>\n",
              "      <td>0.0651</td>\n",
              "      <td>0.0694</td>\n",
              "      <td>ME</td>\n",
              "    </tr>\n",
              "    <tr>\n",
              "      <th rowspan=\"3\" valign=\"top\">44.625</th>\n",
              "      <th>-67.375</th>\n",
              "      <td>0.0464</td>\n",
              "      <td>0.1627</td>\n",
              "      <td>0.0322</td>\n",
              "      <td>0.0353</td>\n",
              "      <td>0.0778</td>\n",
              "      <td>0.1085</td>\n",
              "      <td>ME</td>\n",
              "    </tr>\n",
              "    <tr>\n",
              "      <th>-67.125</th>\n",
              "      <td>0.0593</td>\n",
              "      <td>0.1791</td>\n",
              "      <td>0.0159</td>\n",
              "      <td>0.0202</td>\n",
              "      <td>0.0451</td>\n",
              "      <td>0.0673</td>\n",
              "      <td>ME</td>\n",
              "    </tr>\n",
              "    <tr>\n",
              "      <th>-66.875</th>\n",
              "      <td>0.0725</td>\n",
              "      <td>0.1975</td>\n",
              "      <td>0.0251</td>\n",
              "      <td>0.0285</td>\n",
              "      <td>0.1119</td>\n",
              "      <td>0.1289</td>\n",
              "      <td>ME</td>\n",
              "    </tr>\n",
              "  </tbody>\n",
              "</table>\n",
              "<p>32760 rows × 7 columns</p>\n",
              "</div>\n",
              "    <div class=\"colab-df-buttons\">\n",
              "\n",
              "  <div class=\"colab-df-container\">\n",
              "    <button class=\"colab-df-convert\" onclick=\"convertToInteractive('df-e112d0a0-0120-4b28-ad3e-e6fb5317440b')\"\n",
              "            title=\"Convert this dataframe to an interactive table.\"\n",
              "            style=\"display:none;\">\n",
              "\n",
              "  <svg xmlns=\"http://www.w3.org/2000/svg\" height=\"24px\" viewBox=\"0 -960 960 960\">\n",
              "    <path d=\"M120-120v-720h720v720H120Zm60-500h600v-160H180v160Zm220 220h160v-160H400v160Zm0 220h160v-160H400v160ZM180-400h160v-160H180v160Zm440 0h160v-160H620v160ZM180-180h160v-160H180v160Zm440 0h160v-160H620v160Z\"/>\n",
              "  </svg>\n",
              "    </button>\n",
              "\n",
              "  <style>\n",
              "    .colab-df-container {\n",
              "      display:flex;\n",
              "      gap: 12px;\n",
              "    }\n",
              "\n",
              "    .colab-df-convert {\n",
              "      background-color: #E8F0FE;\n",
              "      border: none;\n",
              "      border-radius: 50%;\n",
              "      cursor: pointer;\n",
              "      display: none;\n",
              "      fill: #1967D2;\n",
              "      height: 32px;\n",
              "      padding: 0 0 0 0;\n",
              "      width: 32px;\n",
              "    }\n",
              "\n",
              "    .colab-df-convert:hover {\n",
              "      background-color: #E2EBFA;\n",
              "      box-shadow: 0px 1px 2px rgba(60, 64, 67, 0.3), 0px 1px 3px 1px rgba(60, 64, 67, 0.15);\n",
              "      fill: #174EA6;\n",
              "    }\n",
              "\n",
              "    .colab-df-buttons div {\n",
              "      margin-bottom: 4px;\n",
              "    }\n",
              "\n",
              "    [theme=dark] .colab-df-convert {\n",
              "      background-color: #3B4455;\n",
              "      fill: #D2E3FC;\n",
              "    }\n",
              "\n",
              "    [theme=dark] .colab-df-convert:hover {\n",
              "      background-color: #434B5C;\n",
              "      box-shadow: 0px 1px 3px 1px rgba(0, 0, 0, 0.15);\n",
              "      filter: drop-shadow(0px 1px 2px rgba(0, 0, 0, 0.3));\n",
              "      fill: #FFFFFF;\n",
              "    }\n",
              "  </style>\n",
              "\n",
              "    <script>\n",
              "      const buttonEl =\n",
              "        document.querySelector('#df-e112d0a0-0120-4b28-ad3e-e6fb5317440b button.colab-df-convert');\n",
              "      buttonEl.style.display =\n",
              "        google.colab.kernel.accessAllowed ? 'block' : 'none';\n",
              "\n",
              "      async function convertToInteractive(key) {\n",
              "        const element = document.querySelector('#df-e112d0a0-0120-4b28-ad3e-e6fb5317440b');\n",
              "        const dataTable =\n",
              "          await google.colab.kernel.invokeFunction('convertToInteractive',\n",
              "                                                    [key], {});\n",
              "        if (!dataTable) return;\n",
              "\n",
              "        const docLinkHtml = 'Like what you see? Visit the ' +\n",
              "          '<a target=\"_blank\" href=https://colab.research.google.com/notebooks/data_table.ipynb>data table notebook</a>'\n",
              "          + ' to learn more about interactive tables.';\n",
              "        element.innerHTML = '';\n",
              "        dataTable['output_type'] = 'display_data';\n",
              "        await google.colab.output.renderOutput(dataTable, element);\n",
              "        const docLink = document.createElement('div');\n",
              "        docLink.innerHTML = docLinkHtml;\n",
              "        element.appendChild(docLink);\n",
              "      }\n",
              "    </script>\n",
              "  </div>\n",
              "\n",
              "\n",
              "<div id=\"df-a8dee932-129c-4243-8beb-874e96bb5443\">\n",
              "  <button class=\"colab-df-quickchart\" onclick=\"quickchart('df-a8dee932-129c-4243-8beb-874e96bb5443')\"\n",
              "            title=\"Suggest charts\"\n",
              "            style=\"display:none;\">\n",
              "\n",
              "<svg xmlns=\"http://www.w3.org/2000/svg\" height=\"24px\"viewBox=\"0 0 24 24\"\n",
              "     width=\"24px\">\n",
              "    <g>\n",
              "        <path d=\"M19 3H5c-1.1 0-2 .9-2 2v14c0 1.1.9 2 2 2h14c1.1 0 2-.9 2-2V5c0-1.1-.9-2-2-2zM9 17H7v-7h2v7zm4 0h-2V7h2v10zm4 0h-2v-4h2v4z\"/>\n",
              "    </g>\n",
              "</svg>\n",
              "  </button>\n",
              "\n",
              "<style>\n",
              "  .colab-df-quickchart {\n",
              "      --bg-color: #E8F0FE;\n",
              "      --fill-color: #1967D2;\n",
              "      --hover-bg-color: #E2EBFA;\n",
              "      --hover-fill-color: #174EA6;\n",
              "      --disabled-fill-color: #AAA;\n",
              "      --disabled-bg-color: #DDD;\n",
              "  }\n",
              "\n",
              "  [theme=dark] .colab-df-quickchart {\n",
              "      --bg-color: #3B4455;\n",
              "      --fill-color: #D2E3FC;\n",
              "      --hover-bg-color: #434B5C;\n",
              "      --hover-fill-color: #FFFFFF;\n",
              "      --disabled-bg-color: #3B4455;\n",
              "      --disabled-fill-color: #666;\n",
              "  }\n",
              "\n",
              "  .colab-df-quickchart {\n",
              "    background-color: var(--bg-color);\n",
              "    border: none;\n",
              "    border-radius: 50%;\n",
              "    cursor: pointer;\n",
              "    display: none;\n",
              "    fill: var(--fill-color);\n",
              "    height: 32px;\n",
              "    padding: 0;\n",
              "    width: 32px;\n",
              "  }\n",
              "\n",
              "  .colab-df-quickchart:hover {\n",
              "    background-color: var(--hover-bg-color);\n",
              "    box-shadow: 0 1px 2px rgba(60, 64, 67, 0.3), 0 1px 3px 1px rgba(60, 64, 67, 0.15);\n",
              "    fill: var(--button-hover-fill-color);\n",
              "  }\n",
              "\n",
              "  .colab-df-quickchart-complete:disabled,\n",
              "  .colab-df-quickchart-complete:disabled:hover {\n",
              "    background-color: var(--disabled-bg-color);\n",
              "    fill: var(--disabled-fill-color);\n",
              "    box-shadow: none;\n",
              "  }\n",
              "\n",
              "  .colab-df-spinner {\n",
              "    border: 2px solid var(--fill-color);\n",
              "    border-color: transparent;\n",
              "    border-bottom-color: var(--fill-color);\n",
              "    animation:\n",
              "      spin 1s steps(1) infinite;\n",
              "  }\n",
              "\n",
              "  @keyframes spin {\n",
              "    0% {\n",
              "      border-color: transparent;\n",
              "      border-bottom-color: var(--fill-color);\n",
              "      border-left-color: var(--fill-color);\n",
              "    }\n",
              "    20% {\n",
              "      border-color: transparent;\n",
              "      border-left-color: var(--fill-color);\n",
              "      border-top-color: var(--fill-color);\n",
              "    }\n",
              "    30% {\n",
              "      border-color: transparent;\n",
              "      border-left-color: var(--fill-color);\n",
              "      border-top-color: var(--fill-color);\n",
              "      border-right-color: var(--fill-color);\n",
              "    }\n",
              "    40% {\n",
              "      border-color: transparent;\n",
              "      border-right-color: var(--fill-color);\n",
              "      border-top-color: var(--fill-color);\n",
              "    }\n",
              "    60% {\n",
              "      border-color: transparent;\n",
              "      border-right-color: var(--fill-color);\n",
              "    }\n",
              "    80% {\n",
              "      border-color: transparent;\n",
              "      border-right-color: var(--fill-color);\n",
              "      border-bottom-color: var(--fill-color);\n",
              "    }\n",
              "    90% {\n",
              "      border-color: transparent;\n",
              "      border-bottom-color: var(--fill-color);\n",
              "    }\n",
              "  }\n",
              "</style>\n",
              "\n",
              "  <script>\n",
              "    async function quickchart(key) {\n",
              "      const quickchartButtonEl =\n",
              "        document.querySelector('#' + key + ' button');\n",
              "      quickchartButtonEl.disabled = true;  // To prevent multiple clicks.\n",
              "      quickchartButtonEl.classList.add('colab-df-spinner');\n",
              "      try {\n",
              "        const charts = await google.colab.kernel.invokeFunction(\n",
              "            'suggestCharts', [key], {});\n",
              "      } catch (error) {\n",
              "        console.error('Error during call to suggestCharts:', error);\n",
              "      }\n",
              "      quickchartButtonEl.classList.remove('colab-df-spinner');\n",
              "      quickchartButtonEl.classList.add('colab-df-quickchart-complete');\n",
              "    }\n",
              "    (() => {\n",
              "      let quickchartButtonEl =\n",
              "        document.querySelector('#df-a8dee932-129c-4243-8beb-874e96bb5443 button');\n",
              "      quickchartButtonEl.style.display =\n",
              "        google.colab.kernel.accessAllowed ? 'block' : 'none';\n",
              "    })();\n",
              "  </script>\n",
              "</div>\n",
              "    </div>\n",
              "  </div>\n"
            ],
            "application/vnd.google.colaboratory.intrinsic+json": {
              "type": "dataframe",
              "variable_name": "seaLevel_df",
              "summary": "{\n  \"name\": \"seaLevel_df\",\n  \"rows\": 32760,\n  \"fields\": [\n    {\n      \"column\": \"adt\",\n      \"properties\": {\n        \"dtype\": \"number\",\n        \"std\": 0.1892160029705666,\n        \"min\": -0.34340000000000004,\n        \"max\": 1.1254,\n        \"num_unique_values\": 7676,\n        \"samples\": [\n          0.47340000000000004,\n          0.3688,\n          -0.0279\n        ],\n        \"semantic_type\": \"\",\n        \"description\": \"\"\n      }\n    },\n    {\n      \"column\": \"sla\",\n      \"properties\": {\n        \"dtype\": \"number\",\n        \"std\": 0.10310367488333726,\n        \"min\": -0.5971000000000001,\n        \"max\": 0.675,\n        \"num_unique_values\": 5171,\n        \"samples\": [\n          -0.050800000000000005,\n          -0.0572,\n          0.22490000000000002\n        ],\n        \"semantic_type\": \"\",\n        \"description\": \"\"\n      }\n    },\n    {\n      \"column\": \"ugos\",\n      \"properties\": {\n        \"dtype\": \"number\",\n        \"std\": 0.17399002091159246,\n        \"min\": -1.0863,\n        \"max\": 1.3914,\n        \"num_unique_values\": 7036,\n        \"samples\": [\n          0.377,\n          0.0446,\n          -0.15460000000000002\n        ],\n        \"semantic_type\": \"\",\n        \"description\": \"\"\n      }\n    },\n    {\n      \"column\": \"ugosa\",\n      \"properties\": {\n        \"dtype\": \"number\",\n        \"std\": 0.14121365393067373,\n        \"min\": -1.2615,\n        \"max\": 1.1340000000000001,\n        \"num_unique_values\": 6366,\n        \"samples\": [\n          -0.8866,\n          -0.022500000000000003,\n          -0.613\n        ],\n        \"semantic_type\": \"\",\n        \"description\": \"\"\n      }\n    },\n    {\n      \"column\": \"vgos\",\n      \"properties\": {\n        \"dtype\": \"number\",\n        \"std\": 0.29349916685630234,\n        \"min\": -1.899,\n        \"max\": 1.9633,\n        \"num_unique_values\": 8757,\n        \"samples\": [\n          -0.4842,\n          0.2514,\n          0.1943\n        ],\n        \"semantic_type\": \"\",\n        \"description\": \"\"\n      }\n    },\n    {\n      \"column\": \"vgosa\",\n      \"properties\": {\n        \"dtype\": \"number\",\n        \"std\": 0.17299288065484042,\n        \"min\": -1.4749,\n        \"max\": 1.6074000000000002,\n        \"num_unique_values\": 7080,\n        \"samples\": [\n          -0.3617,\n          0.2194,\n          0.014400000000000001\n        ],\n        \"semantic_type\": \"\",\n        \"description\": \"\"\n      }\n    },\n    {\n      \"column\": \"State\",\n      \"properties\": {\n        \"dtype\": \"category\",\n        \"num_unique_values\": 16,\n        \"samples\": [\n          \"FL\",\n          \"TX\",\n          \"GA\"\n        ],\n        \"semantic_type\": \"\",\n        \"description\": \"\"\n      }\n    }\n  ]\n}"
            }
          },
          "metadata": {},
          "execution_count": 33
        }
      ]
    },
    {
      "cell_type": "code",
      "source": [
        "# Get rid of index\n",
        "seaLevel_df.reset_index(inplace=True)\n",
        "#seaLevel_df.drop(columns=['index'], inplace=True)\n",
        "\n",
        "# Create year col\n",
        "seaLevel_df['year'] = seaLevel_df['time'].dt.year\n",
        "\n",
        "# Export\n",
        "seaLevel_df.to_excel('SLR_coastel.xlsx')"
      ],
      "metadata": {
        "colab": {
          "base_uri": "https://localhost:8080/"
        },
        "id": "GA4OUORvVtq6",
        "outputId": "951a69ef-6af8-4c83-feb5-abbd6ae591e0"
      },
      "execution_count": null,
      "outputs": [
        {
          "output_type": "stream",
          "name": "stderr",
          "text": [
            "<ipython-input-34-69c162be1177>:6: SettingWithCopyWarning: \n",
            "A value is trying to be set on a copy of a slice from a DataFrame.\n",
            "Try using .loc[row_indexer,col_indexer] = value instead\n",
            "\n",
            "See the caveats in the documentation: https://pandas.pydata.org/pandas-docs/stable/user_guide/indexing.html#returning-a-view-versus-a-copy\n",
            "  seaLevel_df['year'] = seaLevel_df['time'].dt.year\n"
          ]
        }
      ]
    },
    {
      "cell_type": "code",
      "source": [
        "seaLevel_df.columns"
      ],
      "metadata": {
        "colab": {
          "base_uri": "https://localhost:8080/"
        },
        "id": "I5SWYqRKMmrw",
        "outputId": "59d4312a-5e1c-4041-eb34-9e272627192b"
      },
      "execution_count": null,
      "outputs": [
        {
          "output_type": "execute_result",
          "data": {
            "text/plain": [
              "Index(['time', 'latitude', 'longitude', 'adt', 'sla', 'ugos', 'ugosa', 'vgos',\n",
              "       'vgosa', 'State', 'year'],\n",
              "      dtype='object')"
            ]
          },
          "metadata": {},
          "execution_count": 35
        }
      ]
    },
    {
      "cell_type": "code",
      "source": [
        "newdf = seaLevel_df.drop(columns = ['time', 'latitude', 'longitude'])"
      ],
      "metadata": {
        "id": "Rrv0XDO6Oq2j"
      },
      "execution_count": null,
      "outputs": []
    },
    {
      "cell_type": "code",
      "source": [
        "newdf.columns"
      ],
      "metadata": {
        "colab": {
          "base_uri": "https://localhost:8080/"
        },
        "id": "x6KFmENpP7Hy",
        "outputId": "31be5b61-50d1-4488-956c-32dfba1be19a"
      },
      "execution_count": null,
      "outputs": [
        {
          "output_type": "execute_result",
          "data": {
            "text/plain": [
              "Index(['adt', 'sla', 'ugos', 'ugosa', 'vgos', 'vgosa', 'State', 'year'], dtype='object')"
            ]
          },
          "metadata": {},
          "execution_count": 58
        }
      ]
    },
    {
      "cell_type": "code",
      "source": [
        "df = pd.DataFrame(newdf)\n",
        "\n",
        "# Aggregate by year and state\n",
        "grouped_df = df.groupby(['year', 'State']).mean().reset_index()\n",
        "\n",
        "# Pivot the DataFrame\n",
        "pivot_df = grouped_df.pivot(index='year', columns='State')"
      ],
      "metadata": {
        "id": "BCcxPixKPKeP"
      },
      "execution_count": null,
      "outputs": []
    },
    {
      "cell_type": "code",
      "source": [
        "result_df = df.groupby(['State', 'year']).agg({'adt': 'mean',\n",
        "                                               'sla': 'mean',\n",
        "                                               'ugos': 'mean',\n",
        "                                               'ugosa': 'mean',\n",
        "                                               'vgos': 'mean',\n",
        "                                               'vgosa': 'mean'}).reset_index()\n",
        "\n",
        "# Print the resulting DataFrame\n",
        "print(result_df)"
      ],
      "metadata": {
        "colab": {
          "base_uri": "https://localhost:8080/"
        },
        "id": "LF9unHOQPZqr",
        "outputId": "3a5247c1-a588-4195-933e-7481c3ef477a"
      },
      "execution_count": null,
      "outputs": [
        {
          "output_type": "stream",
          "name": "stdout",
          "text": [
            "    State  year       adt       sla      ugos     ugosa      vgos     vgosa\n",
            "0      AL  1993  0.102025 -0.086775  0.014313  0.009438 -0.037937 -0.010638\n",
            "1      AL  1994  0.133313 -0.055488  0.009912  0.005013 -0.005913  0.021413\n",
            "2      AL  1995  0.126388 -0.062413 -0.037675 -0.042575 -0.013950  0.013388\n",
            "3      AL  1996  0.163038 -0.025763 -0.019700 -0.024588 -0.030638 -0.003325\n",
            "4      AL  1997  0.051338 -0.137463 -0.017950 -0.022825 -0.038900 -0.011562\n",
            "..    ...   ...       ...       ...       ...       ...       ...       ...\n",
            "475    VA  2018 -0.019975  0.103167 -0.030513 -0.023067 -0.133013 -0.099175\n",
            "476    VA  2019 -0.068383  0.054758 -0.002750  0.004700 -0.002233  0.031596\n",
            "477    VA  2020 -0.075617  0.047513 -0.085346 -0.077900 -0.116329 -0.082488\n",
            "478    VA  2021 -0.004425  0.118712 -0.014721 -0.007292 -0.043079 -0.009254\n",
            "479    VA  2022 -0.024983  0.098162  0.028667  0.036112  0.015983  0.049817\n",
            "\n",
            "[480 rows x 8 columns]\n"
          ]
        }
      ]
    },
    {
      "cell_type": "code",
      "source": [
        "coastalEconDf = pd.read_csv('coastalEconomy_CoastalStates.csv')\n",
        "oceanEconDf = pd.read_csv('oceanEconomy_ENOW.csv')"
      ],
      "metadata": {
        "colab": {
          "base_uri": "https://localhost:8080/",
          "height": 222
        },
        "id": "_KrRUDXRSGtO",
        "outputId": "db37c692-ed39-46d7-a3f8-2b151fc8ae2e"
      },
      "execution_count": null,
      "outputs": [
        {
          "output_type": "error",
          "ename": "ParserError",
          "evalue": "Error tokenizing data. C error: Expected 8 fields in line 30, saw 10\n",
          "traceback": [
            "\u001b[0;31m---------------------------------------------------------------------------\u001b[0m",
            "\u001b[0;31mParserError\u001b[0m                               Traceback (most recent call last)",
            "\u001b[0;32m<ipython-input-63-5d8c994bc764>\u001b[0m in \u001b[0;36m<cell line: 1>\u001b[0;34m()\u001b[0m\n\u001b[0;32m----> 1\u001b[0;31m \u001b[0mcoastalEconDf\u001b[0m \u001b[0;34m=\u001b[0m \u001b[0mpd\u001b[0m\u001b[0;34m.\u001b[0m\u001b[0mread_csv\u001b[0m\u001b[0;34m(\u001b[0m\u001b[0;34m'coastalEconomy_CoastalStates.csv'\u001b[0m\u001b[0;34m)\u001b[0m\u001b[0;34m\u001b[0m\u001b[0;34m\u001b[0m\u001b[0m\n\u001b[0m\u001b[1;32m      2\u001b[0m \u001b[0moceanEconDf\u001b[0m \u001b[0;34m=\u001b[0m \u001b[0mpd\u001b[0m\u001b[0;34m.\u001b[0m\u001b[0mread_csv\u001b[0m\u001b[0;34m(\u001b[0m\u001b[0;34m'oceanEconomy_ENOW.csv'\u001b[0m\u001b[0;34m)\u001b[0m\u001b[0;34m\u001b[0m\u001b[0;34m\u001b[0m\u001b[0m\n",
            "\u001b[0;32m/usr/local/lib/python3.10/dist-packages/pandas/util/_decorators.py\u001b[0m in \u001b[0;36mwrapper\u001b[0;34m(*args, **kwargs)\u001b[0m\n\u001b[1;32m    209\u001b[0m                 \u001b[0;32melse\u001b[0m\u001b[0;34m:\u001b[0m\u001b[0;34m\u001b[0m\u001b[0;34m\u001b[0m\u001b[0m\n\u001b[1;32m    210\u001b[0m                     \u001b[0mkwargs\u001b[0m\u001b[0;34m[\u001b[0m\u001b[0mnew_arg_name\u001b[0m\u001b[0;34m]\u001b[0m \u001b[0;34m=\u001b[0m \u001b[0mnew_arg_value\u001b[0m\u001b[0;34m\u001b[0m\u001b[0;34m\u001b[0m\u001b[0m\n\u001b[0;32m--> 211\u001b[0;31m             \u001b[0;32mreturn\u001b[0m \u001b[0mfunc\u001b[0m\u001b[0;34m(\u001b[0m\u001b[0;34m*\u001b[0m\u001b[0margs\u001b[0m\u001b[0;34m,\u001b[0m \u001b[0;34m**\u001b[0m\u001b[0mkwargs\u001b[0m\u001b[0;34m)\u001b[0m\u001b[0;34m\u001b[0m\u001b[0;34m\u001b[0m\u001b[0m\n\u001b[0m\u001b[1;32m    212\u001b[0m \u001b[0;34m\u001b[0m\u001b[0m\n\u001b[1;32m    213\u001b[0m         \u001b[0;32mreturn\u001b[0m \u001b[0mcast\u001b[0m\u001b[0;34m(\u001b[0m\u001b[0mF\u001b[0m\u001b[0;34m,\u001b[0m \u001b[0mwrapper\u001b[0m\u001b[0;34m)\u001b[0m\u001b[0;34m\u001b[0m\u001b[0;34m\u001b[0m\u001b[0m\n",
            "\u001b[0;32m/usr/local/lib/python3.10/dist-packages/pandas/util/_decorators.py\u001b[0m in \u001b[0;36mwrapper\u001b[0;34m(*args, **kwargs)\u001b[0m\n\u001b[1;32m    329\u001b[0m                     \u001b[0mstacklevel\u001b[0m\u001b[0;34m=\u001b[0m\u001b[0mfind_stack_level\u001b[0m\u001b[0;34m(\u001b[0m\u001b[0;34m)\u001b[0m\u001b[0;34m,\u001b[0m\u001b[0;34m\u001b[0m\u001b[0;34m\u001b[0m\u001b[0m\n\u001b[1;32m    330\u001b[0m                 )\n\u001b[0;32m--> 331\u001b[0;31m             \u001b[0;32mreturn\u001b[0m \u001b[0mfunc\u001b[0m\u001b[0;34m(\u001b[0m\u001b[0;34m*\u001b[0m\u001b[0margs\u001b[0m\u001b[0;34m,\u001b[0m \u001b[0;34m**\u001b[0m\u001b[0mkwargs\u001b[0m\u001b[0;34m)\u001b[0m\u001b[0;34m\u001b[0m\u001b[0;34m\u001b[0m\u001b[0m\n\u001b[0m\u001b[1;32m    332\u001b[0m \u001b[0;34m\u001b[0m\u001b[0m\n\u001b[1;32m    333\u001b[0m         \u001b[0;31m# error: \"Callable[[VarArg(Any), KwArg(Any)], Any]\" has no\u001b[0m\u001b[0;34m\u001b[0m\u001b[0;34m\u001b[0m\u001b[0m\n",
            "\u001b[0;32m/usr/local/lib/python3.10/dist-packages/pandas/io/parsers/readers.py\u001b[0m in \u001b[0;36mread_csv\u001b[0;34m(filepath_or_buffer, sep, delimiter, header, names, index_col, usecols, squeeze, prefix, mangle_dupe_cols, dtype, engine, converters, true_values, false_values, skipinitialspace, skiprows, skipfooter, nrows, na_values, keep_default_na, na_filter, verbose, skip_blank_lines, parse_dates, infer_datetime_format, keep_date_col, date_parser, dayfirst, cache_dates, iterator, chunksize, compression, thousands, decimal, lineterminator, quotechar, quoting, doublequote, escapechar, comment, encoding, encoding_errors, dialect, error_bad_lines, warn_bad_lines, on_bad_lines, delim_whitespace, low_memory, memory_map, float_precision, storage_options)\u001b[0m\n\u001b[1;32m    948\u001b[0m     \u001b[0mkwds\u001b[0m\u001b[0;34m.\u001b[0m\u001b[0mupdate\u001b[0m\u001b[0;34m(\u001b[0m\u001b[0mkwds_defaults\u001b[0m\u001b[0;34m)\u001b[0m\u001b[0;34m\u001b[0m\u001b[0;34m\u001b[0m\u001b[0m\n\u001b[1;32m    949\u001b[0m \u001b[0;34m\u001b[0m\u001b[0m\n\u001b[0;32m--> 950\u001b[0;31m     \u001b[0;32mreturn\u001b[0m \u001b[0m_read\u001b[0m\u001b[0;34m(\u001b[0m\u001b[0mfilepath_or_buffer\u001b[0m\u001b[0;34m,\u001b[0m \u001b[0mkwds\u001b[0m\u001b[0;34m)\u001b[0m\u001b[0;34m\u001b[0m\u001b[0;34m\u001b[0m\u001b[0m\n\u001b[0m\u001b[1;32m    951\u001b[0m \u001b[0;34m\u001b[0m\u001b[0m\n\u001b[1;32m    952\u001b[0m \u001b[0;34m\u001b[0m\u001b[0m\n",
            "\u001b[0;32m/usr/local/lib/python3.10/dist-packages/pandas/io/parsers/readers.py\u001b[0m in \u001b[0;36m_read\u001b[0;34m(filepath_or_buffer, kwds)\u001b[0m\n\u001b[1;32m    609\u001b[0m \u001b[0;34m\u001b[0m\u001b[0m\n\u001b[1;32m    610\u001b[0m     \u001b[0;32mwith\u001b[0m \u001b[0mparser\u001b[0m\u001b[0;34m:\u001b[0m\u001b[0;34m\u001b[0m\u001b[0;34m\u001b[0m\u001b[0m\n\u001b[0;32m--> 611\u001b[0;31m         \u001b[0;32mreturn\u001b[0m \u001b[0mparser\u001b[0m\u001b[0;34m.\u001b[0m\u001b[0mread\u001b[0m\u001b[0;34m(\u001b[0m\u001b[0mnrows\u001b[0m\u001b[0;34m)\u001b[0m\u001b[0;34m\u001b[0m\u001b[0;34m\u001b[0m\u001b[0m\n\u001b[0m\u001b[1;32m    612\u001b[0m \u001b[0;34m\u001b[0m\u001b[0m\n\u001b[1;32m    613\u001b[0m \u001b[0;34m\u001b[0m\u001b[0m\n",
            "\u001b[0;32m/usr/local/lib/python3.10/dist-packages/pandas/io/parsers/readers.py\u001b[0m in \u001b[0;36mread\u001b[0;34m(self, nrows)\u001b[0m\n\u001b[1;32m   1776\u001b[0m                     \u001b[0mcolumns\u001b[0m\u001b[0;34m,\u001b[0m\u001b[0;34m\u001b[0m\u001b[0;34m\u001b[0m\u001b[0m\n\u001b[1;32m   1777\u001b[0m                     \u001b[0mcol_dict\u001b[0m\u001b[0;34m,\u001b[0m\u001b[0;34m\u001b[0m\u001b[0;34m\u001b[0m\u001b[0m\n\u001b[0;32m-> 1778\u001b[0;31m                 \u001b[0;34m)\u001b[0m \u001b[0;34m=\u001b[0m \u001b[0mself\u001b[0m\u001b[0;34m.\u001b[0m\u001b[0m_engine\u001b[0m\u001b[0;34m.\u001b[0m\u001b[0mread\u001b[0m\u001b[0;34m(\u001b[0m  \u001b[0;31m# type: ignore[attr-defined]\u001b[0m\u001b[0;34m\u001b[0m\u001b[0;34m\u001b[0m\u001b[0m\n\u001b[0m\u001b[1;32m   1779\u001b[0m                     \u001b[0mnrows\u001b[0m\u001b[0;34m\u001b[0m\u001b[0;34m\u001b[0m\u001b[0m\n\u001b[1;32m   1780\u001b[0m                 )\n",
            "\u001b[0;32m/usr/local/lib/python3.10/dist-packages/pandas/io/parsers/c_parser_wrapper.py\u001b[0m in \u001b[0;36mread\u001b[0;34m(self, nrows)\u001b[0m\n\u001b[1;32m    228\u001b[0m         \u001b[0;32mtry\u001b[0m\u001b[0;34m:\u001b[0m\u001b[0;34m\u001b[0m\u001b[0;34m\u001b[0m\u001b[0m\n\u001b[1;32m    229\u001b[0m             \u001b[0;32mif\u001b[0m \u001b[0mself\u001b[0m\u001b[0;34m.\u001b[0m\u001b[0mlow_memory\u001b[0m\u001b[0;34m:\u001b[0m\u001b[0;34m\u001b[0m\u001b[0;34m\u001b[0m\u001b[0m\n\u001b[0;32m--> 230\u001b[0;31m                 \u001b[0mchunks\u001b[0m \u001b[0;34m=\u001b[0m \u001b[0mself\u001b[0m\u001b[0;34m.\u001b[0m\u001b[0m_reader\u001b[0m\u001b[0;34m.\u001b[0m\u001b[0mread_low_memory\u001b[0m\u001b[0;34m(\u001b[0m\u001b[0mnrows\u001b[0m\u001b[0;34m)\u001b[0m\u001b[0;34m\u001b[0m\u001b[0;34m\u001b[0m\u001b[0m\n\u001b[0m\u001b[1;32m    231\u001b[0m                 \u001b[0;31m# destructive to chunks\u001b[0m\u001b[0;34m\u001b[0m\u001b[0;34m\u001b[0m\u001b[0m\n\u001b[1;32m    232\u001b[0m                 \u001b[0mdata\u001b[0m \u001b[0;34m=\u001b[0m \u001b[0m_concatenate_chunks\u001b[0m\u001b[0;34m(\u001b[0m\u001b[0mchunks\u001b[0m\u001b[0;34m)\u001b[0m\u001b[0;34m\u001b[0m\u001b[0;34m\u001b[0m\u001b[0m\n",
            "\u001b[0;32m/usr/local/lib/python3.10/dist-packages/pandas/_libs/parsers.pyx\u001b[0m in \u001b[0;36mpandas._libs.parsers.TextReader.read_low_memory\u001b[0;34m()\u001b[0m\n",
            "\u001b[0;32m/usr/local/lib/python3.10/dist-packages/pandas/_libs/parsers.pyx\u001b[0m in \u001b[0;36mpandas._libs.parsers.TextReader._read_rows\u001b[0;34m()\u001b[0m\n",
            "\u001b[0;32m/usr/local/lib/python3.10/dist-packages/pandas/_libs/parsers.pyx\u001b[0m in \u001b[0;36mpandas._libs.parsers.TextReader._tokenize_rows\u001b[0;34m()\u001b[0m\n",
            "\u001b[0;32m/usr/local/lib/python3.10/dist-packages/pandas/_libs/parsers.pyx\u001b[0m in \u001b[0;36mpandas._libs.parsers.raise_parser_error\u001b[0;34m()\u001b[0m\n",
            "\u001b[0;31mParserError\u001b[0m: Error tokenizing data. C error: Expected 8 fields in line 30, saw 10\n"
          ]
        }
      ]
    },
    {
      "cell_type": "code",
      "source": [
        "coastalEconDf.columns"
      ],
      "metadata": {
        "colab": {
          "base_uri": "https://localhost:8080/",
          "height": 144
        },
        "id": "lZF-RurGS3Ur",
        "outputId": "dc3a6b81-85a3-4a91-b45a-69ff3ad4475d"
      },
      "execution_count": null,
      "outputs": [
        {
          "output_type": "error",
          "ename": "NameError",
          "evalue": "name 'coastalEconDf' is not defined",
          "traceback": [
            "\u001b[0;31m---------------------------------------------------------------------------\u001b[0m",
            "\u001b[0;31mNameError\u001b[0m                                 Traceback (most recent call last)",
            "\u001b[0;32m<ipython-input-61-42bb9a42a8b7>\u001b[0m in \u001b[0;36m<cell line: 1>\u001b[0;34m()\u001b[0m\n\u001b[0;32m----> 1\u001b[0;31m \u001b[0mcoastalEconDf\u001b[0m\u001b[0;34m.\u001b[0m\u001b[0mcolumns\u001b[0m\u001b[0;34m\u001b[0m\u001b[0;34m\u001b[0m\u001b[0m\n\u001b[0m",
            "\u001b[0;31mNameError\u001b[0m: name 'coastalEconDf' is not defined"
          ]
        }
      ]
    },
    {
      "cell_type": "code",
      "source": [],
      "metadata": {
        "id": "4J-GbuxnTTW4"
      },
      "execution_count": null,
      "outputs": []
    }
  ]
}